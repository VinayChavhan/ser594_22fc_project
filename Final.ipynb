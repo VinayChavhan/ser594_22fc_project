{
 "cells": [
  {
   "cell_type": "code",
   "execution_count": 1,
   "id": "192c2bbd",
   "metadata": {},
   "outputs": [],
   "source": [
    "# Load in our libraries\n",
    "import pandas as pd\n",
    "import numpy as np\n",
    "import sklearn\n",
    "import xgboost as xgb\n",
    "import seaborn as sns\n",
    "import matplotlib.pyplot as plt\n",
    "from sklearn.model_selection import KFold\n",
    "# from sklearn.metrics import confusion_matrix\n",
    "plt.style.use('seaborn')\n",
    "sns.set(font_scale=1.5) \n",
    "from sklearn import model_selection\n",
    "\n",
    "%matplotlib inline\n",
    "import torch\n",
    "import torchvision\n",
    "import torchvision.transforms as transforms\n",
    "from PIL import Image\n",
    "from keras.utils import to_categorical\n",
    "from keras.models import Sequential\n",
    "from keras.layers import Conv2D, MaxPooling2D, Dropout, Flatten, Dense, Activation, BatchNormalization\n",
    "from keras.callbacks import EarlyStopping\n",
    "import os \n",
    "os.environ['KMP_DUPLICATE_LIB_OK']='True'\n",
    "import tensorflow as tf\n",
    "from keras.wrappers.scikit_learn import KerasClassifier \n",
    "from sklearn.metrics import classification_report\n",
    "from sklearn.metrics import confusion_matrix, accuracy_score\n",
    "from sklearn.model_selection import cross_val_score\n",
    "\n",
    "# import torchvision.transforms.functional as transforms"
   ]
  },
  {
   "cell_type": "code",
   "execution_count": 2,
   "id": "2f40f39a",
   "metadata": {},
   "outputs": [],
   "source": [
    "df = pd.read_pickle(\"LSWMD.pkl\")"
   ]
  },
  {
   "cell_type": "code",
   "execution_count": 3,
   "id": "9c8eb931",
   "metadata": {},
   "outputs": [
    {
     "name": "stdout",
     "output_type": "stream",
     "text": [
      "<class 'pandas.core.frame.DataFrame'>\n",
      "RangeIndex: 811457 entries, 0 to 811456\n",
      "Data columns (total 6 columns):\n",
      " #   Column          Non-Null Count   Dtype  \n",
      "---  ------          --------------   -----  \n",
      " 0   waferMap        811457 non-null  object \n",
      " 1   dieSize         811457 non-null  float64\n",
      " 2   lotName         811457 non-null  object \n",
      " 3   waferIndex      811457 non-null  float64\n",
      " 4   trianTestLabel  811457 non-null  object \n",
      " 5   failureType     811457 non-null  object \n",
      "dtypes: float64(2), object(4)\n",
      "memory usage: 37.1+ MB\n"
     ]
    }
   ],
   "source": [
    "df.info() #dataset check."
   ]
  },
  {
   "cell_type": "code",
   "execution_count": 4,
   "id": "10663bb1",
   "metadata": {},
   "outputs": [
    {
     "data": {
      "text/html": [
       "<div>\n",
       "<style scoped>\n",
       "    .dataframe tbody tr th:only-of-type {\n",
       "        vertical-align: middle;\n",
       "    }\n",
       "\n",
       "    .dataframe tbody tr th {\n",
       "        vertical-align: top;\n",
       "    }\n",
       "\n",
       "    .dataframe thead th {\n",
       "        text-align: right;\n",
       "    }\n",
       "</style>\n",
       "<table border=\"1\" class=\"dataframe\">\n",
       "  <thead>\n",
       "    <tr style=\"text-align: right;\">\n",
       "      <th></th>\n",
       "      <th>waferMap</th>\n",
       "      <th>dieSize</th>\n",
       "      <th>lotName</th>\n",
       "      <th>waferIndex</th>\n",
       "      <th>trianTestLabel</th>\n",
       "      <th>failureType</th>\n",
       "    </tr>\n",
       "  </thead>\n",
       "  <tbody>\n",
       "    <tr>\n",
       "      <th>0</th>\n",
       "      <td>[[0, 0, 0, 0, 0, 0, 0, 0, 0, 0, 0, 0, 0, 0, 0,...</td>\n",
       "      <td>1683.0</td>\n",
       "      <td>lot1</td>\n",
       "      <td>1.0</td>\n",
       "      <td>[[Training]]</td>\n",
       "      <td>[[none]]</td>\n",
       "    </tr>\n",
       "    <tr>\n",
       "      <th>1</th>\n",
       "      <td>[[0, 0, 0, 0, 0, 0, 0, 0, 0, 0, 0, 0, 0, 0, 0,...</td>\n",
       "      <td>1683.0</td>\n",
       "      <td>lot1</td>\n",
       "      <td>2.0</td>\n",
       "      <td>[[Training]]</td>\n",
       "      <td>[[none]]</td>\n",
       "    </tr>\n",
       "    <tr>\n",
       "      <th>2</th>\n",
       "      <td>[[0, 0, 0, 0, 0, 0, 0, 0, 0, 0, 0, 0, 0, 0, 0,...</td>\n",
       "      <td>1683.0</td>\n",
       "      <td>lot1</td>\n",
       "      <td>3.0</td>\n",
       "      <td>[[Training]]</td>\n",
       "      <td>[[none]]</td>\n",
       "    </tr>\n",
       "    <tr>\n",
       "      <th>3</th>\n",
       "      <td>[[0, 0, 0, 0, 0, 0, 0, 0, 0, 0, 0, 0, 0, 0, 0,...</td>\n",
       "      <td>1683.0</td>\n",
       "      <td>lot1</td>\n",
       "      <td>4.0</td>\n",
       "      <td>[[Training]]</td>\n",
       "      <td>[[none]]</td>\n",
       "    </tr>\n",
       "    <tr>\n",
       "      <th>4</th>\n",
       "      <td>[[0, 0, 0, 0, 0, 0, 0, 0, 0, 0, 0, 0, 0, 0, 0,...</td>\n",
       "      <td>1683.0</td>\n",
       "      <td>lot1</td>\n",
       "      <td>5.0</td>\n",
       "      <td>[[Training]]</td>\n",
       "      <td>[[none]]</td>\n",
       "    </tr>\n",
       "  </tbody>\n",
       "</table>\n",
       "</div>"
      ],
      "text/plain": [
       "                                            waferMap  dieSize lotName  \\\n",
       "0  [[0, 0, 0, 0, 0, 0, 0, 0, 0, 0, 0, 0, 0, 0, 0,...   1683.0    lot1   \n",
       "1  [[0, 0, 0, 0, 0, 0, 0, 0, 0, 0, 0, 0, 0, 0, 0,...   1683.0    lot1   \n",
       "2  [[0, 0, 0, 0, 0, 0, 0, 0, 0, 0, 0, 0, 0, 0, 0,...   1683.0    lot1   \n",
       "3  [[0, 0, 0, 0, 0, 0, 0, 0, 0, 0, 0, 0, 0, 0, 0,...   1683.0    lot1   \n",
       "4  [[0, 0, 0, 0, 0, 0, 0, 0, 0, 0, 0, 0, 0, 0, 0,...   1683.0    lot1   \n",
       "\n",
       "   waferIndex trianTestLabel failureType  \n",
       "0         1.0   [[Training]]    [[none]]  \n",
       "1         2.0   [[Training]]    [[none]]  \n",
       "2         3.0   [[Training]]    [[none]]  \n",
       "3         4.0   [[Training]]    [[none]]  \n",
       "4         5.0   [[Training]]    [[none]]  "
      ]
     },
     "execution_count": 4,
     "metadata": {},
     "output_type": "execute_result"
    }
   ],
   "source": [
    "df.head()"
   ]
  },
  {
   "cell_type": "code",
   "execution_count": 5,
   "id": "193f692c",
   "metadata": {},
   "outputs": [
    {
     "data": {
      "text/html": [
       "<div>\n",
       "<style scoped>\n",
       "    .dataframe tbody tr th:only-of-type {\n",
       "        vertical-align: middle;\n",
       "    }\n",
       "\n",
       "    .dataframe tbody tr th {\n",
       "        vertical-align: top;\n",
       "    }\n",
       "\n",
       "    .dataframe thead th {\n",
       "        text-align: right;\n",
       "    }\n",
       "</style>\n",
       "<table border=\"1\" class=\"dataframe\">\n",
       "  <thead>\n",
       "    <tr style=\"text-align: right;\">\n",
       "      <th></th>\n",
       "      <th>waferMap</th>\n",
       "      <th>dieSize</th>\n",
       "      <th>lotName</th>\n",
       "      <th>waferIndex</th>\n",
       "      <th>trianTestLabel</th>\n",
       "      <th>failureType</th>\n",
       "    </tr>\n",
       "  </thead>\n",
       "  <tbody>\n",
       "    <tr>\n",
       "      <th>811452</th>\n",
       "      <td>[[0, 0, 0, 0, 0, 0, 0, 0, 0, 0, 0, 1, 2, 1, 1,...</td>\n",
       "      <td>600.0</td>\n",
       "      <td>lot47542</td>\n",
       "      <td>23.0</td>\n",
       "      <td>[[Test]]</td>\n",
       "      <td>[[Edge-Ring]]</td>\n",
       "    </tr>\n",
       "    <tr>\n",
       "      <th>811453</th>\n",
       "      <td>[[0, 0, 0, 0, 0, 0, 0, 0, 0, 0, 0, 2, 2, 1, 1,...</td>\n",
       "      <td>600.0</td>\n",
       "      <td>lot47542</td>\n",
       "      <td>24.0</td>\n",
       "      <td>[[Test]]</td>\n",
       "      <td>[[Edge-Loc]]</td>\n",
       "    </tr>\n",
       "    <tr>\n",
       "      <th>811454</th>\n",
       "      <td>[[0, 0, 0, 0, 0, 0, 0, 0, 0, 0, 0, 1, 2, 1, 1,...</td>\n",
       "      <td>600.0</td>\n",
       "      <td>lot47542</td>\n",
       "      <td>25.0</td>\n",
       "      <td>[[Test]]</td>\n",
       "      <td>[[Edge-Ring]]</td>\n",
       "    </tr>\n",
       "    <tr>\n",
       "      <th>811455</th>\n",
       "      <td>[[0, 0, 0, 0, 0, 0, 0, 0, 0, 0, 0, 1, 1, 1, 1,...</td>\n",
       "      <td>600.0</td>\n",
       "      <td>lot47543</td>\n",
       "      <td>1.0</td>\n",
       "      <td>[]</td>\n",
       "      <td>[]</td>\n",
       "    </tr>\n",
       "    <tr>\n",
       "      <th>811456</th>\n",
       "      <td>[[0, 0, 0, 0, 0, 0, 0, 0, 0, 0, 0, 1, 2, 1, 1,...</td>\n",
       "      <td>600.0</td>\n",
       "      <td>lot47543</td>\n",
       "      <td>2.0</td>\n",
       "      <td>[]</td>\n",
       "      <td>[]</td>\n",
       "    </tr>\n",
       "  </tbody>\n",
       "</table>\n",
       "</div>"
      ],
      "text/plain": [
       "                                                 waferMap  dieSize   lotName  \\\n",
       "811452  [[0, 0, 0, 0, 0, 0, 0, 0, 0, 0, 0, 1, 2, 1, 1,...    600.0  lot47542   \n",
       "811453  [[0, 0, 0, 0, 0, 0, 0, 0, 0, 0, 0, 2, 2, 1, 1,...    600.0  lot47542   \n",
       "811454  [[0, 0, 0, 0, 0, 0, 0, 0, 0, 0, 0, 1, 2, 1, 1,...    600.0  lot47542   \n",
       "811455  [[0, 0, 0, 0, 0, 0, 0, 0, 0, 0, 0, 1, 1, 1, 1,...    600.0  lot47543   \n",
       "811456  [[0, 0, 0, 0, 0, 0, 0, 0, 0, 0, 0, 1, 2, 1, 1,...    600.0  lot47543   \n",
       "\n",
       "        waferIndex trianTestLabel    failureType  \n",
       "811452        23.0       [[Test]]  [[Edge-Ring]]  \n",
       "811453        24.0       [[Test]]   [[Edge-Loc]]  \n",
       "811454        25.0       [[Test]]  [[Edge-Ring]]  \n",
       "811455         1.0             []             []  \n",
       "811456         2.0             []             []  "
      ]
     },
     "execution_count": 5,
     "metadata": {},
     "output_type": "execute_result"
    }
   ],
   "source": [
    "df.tail()"
   ]
  },
  {
   "cell_type": "code",
   "execution_count": 6,
   "id": "1c071c25",
   "metadata": {},
   "outputs": [],
   "source": [
    "df = df.drop(['waferIndex'], axis = 1)"
   ]
  },
  {
   "cell_type": "code",
   "execution_count": 7,
   "id": "1a985719",
   "metadata": {},
   "outputs": [
    {
     "data": {
      "text/html": [
       "<div>\n",
       "<style scoped>\n",
       "    .dataframe tbody tr th:only-of-type {\n",
       "        vertical-align: middle;\n",
       "    }\n",
       "\n",
       "    .dataframe tbody tr th {\n",
       "        vertical-align: top;\n",
       "    }\n",
       "\n",
       "    .dataframe thead th {\n",
       "        text-align: right;\n",
       "    }\n",
       "</style>\n",
       "<table border=\"1\" class=\"dataframe\">\n",
       "  <thead>\n",
       "    <tr style=\"text-align: right;\">\n",
       "      <th></th>\n",
       "      <th>waferMap</th>\n",
       "      <th>dieSize</th>\n",
       "      <th>lotName</th>\n",
       "      <th>trianTestLabel</th>\n",
       "      <th>failureType</th>\n",
       "      <th>waferMapDim</th>\n",
       "    </tr>\n",
       "  </thead>\n",
       "  <tbody>\n",
       "    <tr>\n",
       "      <th>167305</th>\n",
       "      <td>[[0, 0, 0, 0, 0, 0, 0, 0, 0, 0, 0, 0, 0, 0, 0,...</td>\n",
       "      <td>3036.0</td>\n",
       "      <td>lot10661</td>\n",
       "      <td>[]</td>\n",
       "      <td>[]</td>\n",
       "      <td>(64, 60)</td>\n",
       "    </tr>\n",
       "    <tr>\n",
       "      <th>696453</th>\n",
       "      <td>[[0, 0, 0, 0, 0, 0, 0, 0, 0, 0, 0, 0, 2, 2, 2,...</td>\n",
       "      <td>516.0</td>\n",
       "      <td>lot42881</td>\n",
       "      <td>[[Training]]</td>\n",
       "      <td>[[none]]</td>\n",
       "      <td>(25, 27)</td>\n",
       "    </tr>\n",
       "    <tr>\n",
       "      <th>521110</th>\n",
       "      <td>[[0, 0, 0, 0, 0, 0, 0, 0, 0, 0, 0, 2, 1, 2, 1,...</td>\n",
       "      <td>515.0</td>\n",
       "      <td>lot32577</td>\n",
       "      <td>[]</td>\n",
       "      <td>[]</td>\n",
       "      <td>(25, 27)</td>\n",
       "    </tr>\n",
       "    <tr>\n",
       "      <th>314053</th>\n",
       "      <td>[[0, 0, 0, 0, 0, 0, 0, 0, 0, 0, 0, 0, 0, 0, 0,...</td>\n",
       "      <td>4143.0</td>\n",
       "      <td>lot19154</td>\n",
       "      <td>[]</td>\n",
       "      <td>[]</td>\n",
       "      <td>(70, 75)</td>\n",
       "    </tr>\n",
       "    <tr>\n",
       "      <th>621833</th>\n",
       "      <td>[[0, 0, 0, 0, 0, 0, 0, 0, 0, 0, 0, 0, 1, 1, 1,...</td>\n",
       "      <td>712.0</td>\n",
       "      <td>lot39086</td>\n",
       "      <td>[]</td>\n",
       "      <td>[]</td>\n",
       "      <td>(32, 29)</td>\n",
       "    </tr>\n",
       "  </tbody>\n",
       "</table>\n",
       "</div>"
      ],
      "text/plain": [
       "                                                 waferMap  dieSize   lotName  \\\n",
       "167305  [[0, 0, 0, 0, 0, 0, 0, 0, 0, 0, 0, 0, 0, 0, 0,...   3036.0  lot10661   \n",
       "696453  [[0, 0, 0, 0, 0, 0, 0, 0, 0, 0, 0, 0, 2, 2, 2,...    516.0  lot42881   \n",
       "521110  [[0, 0, 0, 0, 0, 0, 0, 0, 0, 0, 0, 2, 1, 2, 1,...    515.0  lot32577   \n",
       "314053  [[0, 0, 0, 0, 0, 0, 0, 0, 0, 0, 0, 0, 0, 0, 0,...   4143.0  lot19154   \n",
       "621833  [[0, 0, 0, 0, 0, 0, 0, 0, 0, 0, 0, 0, 1, 1, 1,...    712.0  lot39086   \n",
       "\n",
       "       trianTestLabel failureType waferMapDim  \n",
       "167305             []          []    (64, 60)  \n",
       "696453   [[Training]]    [[none]]    (25, 27)  \n",
       "521110             []          []    (25, 27)  \n",
       "314053             []          []    (70, 75)  \n",
       "621833             []          []    (32, 29)  "
      ]
     },
     "execution_count": 7,
     "metadata": {},
     "output_type": "execute_result"
    }
   ],
   "source": [
    "#add wafermapDim column because waferMap dim is different each other.\n",
    "def find_dim(x):\n",
    "    dim0=np.size(x,axis=0)\n",
    "    dim1=np.size(x,axis=1)\n",
    "    return dim0,dim1\n",
    "df['waferMapDim']=df.waferMap.apply(find_dim)\n",
    "df.sample(5)"
   ]
  },
  {
   "cell_type": "code",
   "execution_count": 8,
   "id": "fe66c9c9",
   "metadata": {},
   "outputs": [
    {
     "name": "stderr",
     "output_type": "stream",
     "text": [
      "D:\\Anaconda\\envs\\tf\\lib\\site-packages\\pandas\\core\\ops\\array_ops.py:73: FutureWarning: elementwise comparison failed; returning scalar instead, but in the future will perform elementwise comparison\n",
      "  result = libops.scalar_compare(x.ravel(), y, op)\n"
     ]
    },
    {
     "name": "stdout",
     "output_type": "stream",
     "text": [
      "Total labeled data 172950\n",
      "Data with defects 25519\n",
      "Data without defects 147431\n"
     ]
    }
   ],
   "source": [
    "#df_withlabel : labeled wafer\n",
    "#df_withpattern : labeled & patterned wafer \n",
    "#df_nonpatter : labeled but non-patterned wafer\n",
    "defined_df = df.loc[df['failureType'] != 0] #failureType !=0\n",
    "defined_withpattern = defined_df[(defined_df['failureType'] != 'none')]\n",
    "defined__withpattern = defined_withpattern.reset_index() #patterned index.\n",
    "defined_nonpattern = defined_df[(defined_df['failureType'] == 'none')] #nonpatterned index\n",
    "print('Total labeled data',defined_df.shape[0]) \n",
    "print('Data with defects',defined__withpattern.shape[0]) \n",
    "print('Data without defects',defined_nonpattern.shape[0])"
   ]
  },
  {
   "cell_type": "code",
   "execution_count": 9,
   "id": "5b6f5b64",
   "metadata": {},
   "outputs": [
    {
     "data": {
      "text/html": [
       "<div>\n",
       "<style scoped>\n",
       "    .dataframe tbody tr th:only-of-type {\n",
       "        vertical-align: middle;\n",
       "    }\n",
       "\n",
       "    .dataframe tbody tr th {\n",
       "        vertical-align: top;\n",
       "    }\n",
       "\n",
       "    .dataframe thead th {\n",
       "        text-align: right;\n",
       "    }\n",
       "</style>\n",
       "<table border=\"1\" class=\"dataframe\">\n",
       "  <thead>\n",
       "    <tr style=\"text-align: right;\">\n",
       "      <th></th>\n",
       "      <th>waferMap</th>\n",
       "      <th>dieSize</th>\n",
       "      <th>lotName</th>\n",
       "      <th>trianTestLabel</th>\n",
       "      <th>failureType</th>\n",
       "      <th>waferMapDim</th>\n",
       "    </tr>\n",
       "  </thead>\n",
       "  <tbody>\n",
       "    <tr>\n",
       "      <th>0</th>\n",
       "      <td>[[0, 0, 0, 0, 0, 0, 0, 0, 0, 0, 0, 0, 0, 0, 0,...</td>\n",
       "      <td>1683.0</td>\n",
       "      <td>lot1</td>\n",
       "      <td>[[Training]]</td>\n",
       "      <td>[[none]]</td>\n",
       "      <td>(45, 48)</td>\n",
       "    </tr>\n",
       "    <tr>\n",
       "      <th>1</th>\n",
       "      <td>[[0, 0, 0, 0, 0, 0, 0, 0, 0, 0, 0, 0, 0, 0, 0,...</td>\n",
       "      <td>1683.0</td>\n",
       "      <td>lot1</td>\n",
       "      <td>[[Training]]</td>\n",
       "      <td>[[none]]</td>\n",
       "      <td>(45, 48)</td>\n",
       "    </tr>\n",
       "    <tr>\n",
       "      <th>2</th>\n",
       "      <td>[[0, 0, 0, 0, 0, 0, 0, 0, 0, 0, 0, 0, 0, 0, 0,...</td>\n",
       "      <td>1683.0</td>\n",
       "      <td>lot1</td>\n",
       "      <td>[[Training]]</td>\n",
       "      <td>[[none]]</td>\n",
       "      <td>(45, 48)</td>\n",
       "    </tr>\n",
       "    <tr>\n",
       "      <th>3</th>\n",
       "      <td>[[0, 0, 0, 0, 0, 0, 0, 0, 0, 0, 0, 0, 0, 0, 0,...</td>\n",
       "      <td>1683.0</td>\n",
       "      <td>lot1</td>\n",
       "      <td>[[Training]]</td>\n",
       "      <td>[[none]]</td>\n",
       "      <td>(45, 48)</td>\n",
       "    </tr>\n",
       "    <tr>\n",
       "      <th>4</th>\n",
       "      <td>[[0, 0, 0, 0, 0, 0, 0, 0, 0, 0, 0, 0, 0, 0, 0,...</td>\n",
       "      <td>1683.0</td>\n",
       "      <td>lot1</td>\n",
       "      <td>[[Training]]</td>\n",
       "      <td>[[none]]</td>\n",
       "      <td>(45, 48)</td>\n",
       "    </tr>\n",
       "    <tr>\n",
       "      <th>...</th>\n",
       "      <td>...</td>\n",
       "      <td>...</td>\n",
       "      <td>...</td>\n",
       "      <td>...</td>\n",
       "      <td>...</td>\n",
       "      <td>...</td>\n",
       "    </tr>\n",
       "    <tr>\n",
       "      <th>811450</th>\n",
       "      <td>[[0, 0, 0, 0, 0, 0, 0, 0, 0, 0, 0, 1, 2, 1, 2,...</td>\n",
       "      <td>600.0</td>\n",
       "      <td>lot47542</td>\n",
       "      <td>[[Test]]</td>\n",
       "      <td>[[Edge-Loc]]</td>\n",
       "      <td>(26, 30)</td>\n",
       "    </tr>\n",
       "    <tr>\n",
       "      <th>811451</th>\n",
       "      <td>[[0, 0, 0, 0, 0, 0, 0, 0, 0, 0, 0, 1, 1, 1, 1,...</td>\n",
       "      <td>600.0</td>\n",
       "      <td>lot47542</td>\n",
       "      <td>[[Test]]</td>\n",
       "      <td>[[Edge-Loc]]</td>\n",
       "      <td>(26, 30)</td>\n",
       "    </tr>\n",
       "    <tr>\n",
       "      <th>811452</th>\n",
       "      <td>[[0, 0, 0, 0, 0, 0, 0, 0, 0, 0, 0, 1, 2, 1, 1,...</td>\n",
       "      <td>600.0</td>\n",
       "      <td>lot47542</td>\n",
       "      <td>[[Test]]</td>\n",
       "      <td>[[Edge-Ring]]</td>\n",
       "      <td>(26, 30)</td>\n",
       "    </tr>\n",
       "    <tr>\n",
       "      <th>811453</th>\n",
       "      <td>[[0, 0, 0, 0, 0, 0, 0, 0, 0, 0, 0, 2, 2, 1, 1,...</td>\n",
       "      <td>600.0</td>\n",
       "      <td>lot47542</td>\n",
       "      <td>[[Test]]</td>\n",
       "      <td>[[Edge-Loc]]</td>\n",
       "      <td>(26, 30)</td>\n",
       "    </tr>\n",
       "    <tr>\n",
       "      <th>811454</th>\n",
       "      <td>[[0, 0, 0, 0, 0, 0, 0, 0, 0, 0, 0, 1, 2, 1, 1,...</td>\n",
       "      <td>600.0</td>\n",
       "      <td>lot47542</td>\n",
       "      <td>[[Test]]</td>\n",
       "      <td>[[Edge-Ring]]</td>\n",
       "      <td>(26, 30)</td>\n",
       "    </tr>\n",
       "  </tbody>\n",
       "</table>\n",
       "<p>172950 rows × 6 columns</p>\n",
       "</div>"
      ],
      "text/plain": [
       "                                                 waferMap  dieSize   lotName  \\\n",
       "0       [[0, 0, 0, 0, 0, 0, 0, 0, 0, 0, 0, 0, 0, 0, 0,...   1683.0      lot1   \n",
       "1       [[0, 0, 0, 0, 0, 0, 0, 0, 0, 0, 0, 0, 0, 0, 0,...   1683.0      lot1   \n",
       "2       [[0, 0, 0, 0, 0, 0, 0, 0, 0, 0, 0, 0, 0, 0, 0,...   1683.0      lot1   \n",
       "3       [[0, 0, 0, 0, 0, 0, 0, 0, 0, 0, 0, 0, 0, 0, 0,...   1683.0      lot1   \n",
       "4       [[0, 0, 0, 0, 0, 0, 0, 0, 0, 0, 0, 0, 0, 0, 0,...   1683.0      lot1   \n",
       "...                                                   ...      ...       ...   \n",
       "811450  [[0, 0, 0, 0, 0, 0, 0, 0, 0, 0, 0, 1, 2, 1, 2,...    600.0  lot47542   \n",
       "811451  [[0, 0, 0, 0, 0, 0, 0, 0, 0, 0, 0, 1, 1, 1, 1,...    600.0  lot47542   \n",
       "811452  [[0, 0, 0, 0, 0, 0, 0, 0, 0, 0, 0, 1, 2, 1, 1,...    600.0  lot47542   \n",
       "811453  [[0, 0, 0, 0, 0, 0, 0, 0, 0, 0, 0, 2, 2, 1, 1,...    600.0  lot47542   \n",
       "811454  [[0, 0, 0, 0, 0, 0, 0, 0, 0, 0, 0, 1, 2, 1, 1,...    600.0  lot47542   \n",
       "\n",
       "       trianTestLabel    failureType waferMapDim  \n",
       "0        [[Training]]       [[none]]    (45, 48)  \n",
       "1        [[Training]]       [[none]]    (45, 48)  \n",
       "2        [[Training]]       [[none]]    (45, 48)  \n",
       "3        [[Training]]       [[none]]    (45, 48)  \n",
       "4        [[Training]]       [[none]]    (45, 48)  \n",
       "...               ...            ...         ...  \n",
       "811450       [[Test]]   [[Edge-Loc]]    (26, 30)  \n",
       "811451       [[Test]]   [[Edge-Loc]]    (26, 30)  \n",
       "811452       [[Test]]  [[Edge-Ring]]    (26, 30)  \n",
       "811453       [[Test]]   [[Edge-Loc]]    (26, 30)  \n",
       "811454       [[Test]]  [[Edge-Ring]]    (26, 30)  \n",
       "\n",
       "[172950 rows x 6 columns]"
      ]
     },
     "execution_count": 9,
     "metadata": {},
     "output_type": "execute_result"
    }
   ],
   "source": [
    "defined_df"
   ]
  },
  {
   "cell_type": "code",
   "execution_count": 10,
   "id": "64b94958",
   "metadata": {},
   "outputs": [
    {
     "data": {
      "text/plain": [
       "(25, 27)     18781\n",
       "(26, 26)     14366\n",
       "(30, 34)     12400\n",
       "(29, 26)     11751\n",
       "(27, 25)     10682\n",
       "             ...  \n",
       "(68, 72)         1\n",
       "(29, 45)         1\n",
       "(38, 62)         1\n",
       "(43, 133)        1\n",
       "(36, 41)         1\n",
       "Name: waferMapDim, Length: 346, dtype: int64"
      ]
     },
     "execution_count": 10,
     "metadata": {},
     "output_type": "execute_result"
    }
   ],
   "source": [
    "defined_df['waferMapDim'].value_counts()"
   ]
  },
  {
   "cell_type": "markdown",
   "id": "cff5c0b4",
   "metadata": {},
   "source": [
    "# Reducing the size of None type data"
   ]
  },
  {
   "cell_type": "code",
   "execution_count": 11,
   "id": "5b1233ef",
   "metadata": {},
   "outputs": [],
   "source": [
    "df['failureNum']=defined_df.failureType\n",
    "df['trainTestNum']=defined_df.trianTestLabel\n",
    "mapping_type={'Center':0,'Donut':1,'Edge-Loc':2,'Edge-Ring':3,'Loc':4,'Random':5,'Scratch':6,'Near-full':7,'none':8}\n",
    "mapping_traintest={'Training':0,'Test':1}\n",
    "df=df.replace({'failureNum':mapping_type, 'trainTestNum':mapping_traintest})"
   ]
  },
  {
   "cell_type": "code",
   "execution_count": 12,
   "id": "c7fda063",
   "metadata": {},
   "outputs": [],
   "source": [
    "df_nonpattern = df[(df['failureNum']==8)]\n",
    "df_withlabel = df[(df['failureNum']>=0) & (df['failureNum']<=8)]\n",
    "df_withlabel =df_withlabel.reset_index()"
   ]
  },
  {
   "cell_type": "code",
   "execution_count": 13,
   "id": "d76b631a",
   "metadata": {},
   "outputs": [
    {
     "data": {
      "text/plain": [
       "(array([0., 1., 2., 3., 4., 5., 6., 7., 8.]),\n",
       " array([  4294,    555,   5189,   9680,   3593,    866,   1193,    149,\n",
       "        147431], dtype=int64))"
      ]
     },
     "execution_count": 13,
     "metadata": {},
     "output_type": "execute_result"
    }
   ],
   "source": [
    "np.unique(df_withlabel.failureNum, return_counts=True)"
   ]
  },
  {
   "cell_type": "code",
   "execution_count": 14,
   "id": "2b96c4fa",
   "metadata": {},
   "outputs": [],
   "source": [
    "df1 = defined_df[defined_df['failureType'] == 'none']"
   ]
  },
  {
   "cell_type": "code",
   "execution_count": 15,
   "id": "81ea5261",
   "metadata": {},
   "outputs": [],
   "source": [
    "defined_df1 = defined_df[defined_df[\"failureType\"] != 'none']"
   ]
  },
  {
   "cell_type": "code",
   "execution_count": 16,
   "id": "554453c6",
   "metadata": {},
   "outputs": [],
   "source": [
    "df_del = df1[::7]"
   ]
  },
  {
   "cell_type": "code",
   "execution_count": 17,
   "id": "411820c7",
   "metadata": {},
   "outputs": [],
   "source": [
    "defined_df = pd.concat([defined_df1,df_del])"
   ]
  },
  {
   "cell_type": "markdown",
   "id": "e0e2cad7",
   "metadata": {},
   "source": [
    "# Final Data"
   ]
  },
  {
   "cell_type": "code",
   "execution_count": 18,
   "id": "ae801248",
   "metadata": {},
   "outputs": [
    {
     "data": {
      "text/html": [
       "<div>\n",
       "<style scoped>\n",
       "    .dataframe tbody tr th:only-of-type {\n",
       "        vertical-align: middle;\n",
       "    }\n",
       "\n",
       "    .dataframe tbody tr th {\n",
       "        vertical-align: top;\n",
       "    }\n",
       "\n",
       "    .dataframe thead th {\n",
       "        text-align: right;\n",
       "    }\n",
       "</style>\n",
       "<table border=\"1\" class=\"dataframe\">\n",
       "  <thead>\n",
       "    <tr style=\"text-align: right;\">\n",
       "      <th></th>\n",
       "      <th>waferMap</th>\n",
       "      <th>dieSize</th>\n",
       "      <th>lotName</th>\n",
       "      <th>trianTestLabel</th>\n",
       "      <th>failureType</th>\n",
       "      <th>waferMapDim</th>\n",
       "    </tr>\n",
       "  </thead>\n",
       "  <tbody>\n",
       "    <tr>\n",
       "      <th>19</th>\n",
       "      <td>[[0, 0, 0, 0, 0, 0, 0, 0, 0, 0, 0, 0, 0, 0, 0,...</td>\n",
       "      <td>1683.0</td>\n",
       "      <td>lot1</td>\n",
       "      <td>[[Training]]</td>\n",
       "      <td>[[Loc]]</td>\n",
       "      <td>(45, 48)</td>\n",
       "    </tr>\n",
       "    <tr>\n",
       "      <th>36</th>\n",
       "      <td>[[0, 0, 0, 0, 0, 0, 0, 0, 0, 0, 0, 0, 0, 0, 0,...</td>\n",
       "      <td>2460.0</td>\n",
       "      <td>lot2</td>\n",
       "      <td>[[Training]]</td>\n",
       "      <td>[[Edge-Loc]]</td>\n",
       "      <td>(53, 58)</td>\n",
       "    </tr>\n",
       "    <tr>\n",
       "      <th>37</th>\n",
       "      <td>[[0, 0, 0, 0, 0, 0, 0, 0, 0, 0, 0, 0, 0, 0, 0,...</td>\n",
       "      <td>2460.0</td>\n",
       "      <td>lot2</td>\n",
       "      <td>[[Training]]</td>\n",
       "      <td>[[Edge-Loc]]</td>\n",
       "      <td>(53, 58)</td>\n",
       "    </tr>\n",
       "    <tr>\n",
       "      <th>38</th>\n",
       "      <td>[[0, 0, 0, 0, 0, 0, 0, 0, 0, 0, 0, 0, 0, 0, 0,...</td>\n",
       "      <td>2460.0</td>\n",
       "      <td>lot2</td>\n",
       "      <td>[[Training]]</td>\n",
       "      <td>[[Edge-Loc]]</td>\n",
       "      <td>(53, 58)</td>\n",
       "    </tr>\n",
       "    <tr>\n",
       "      <th>39</th>\n",
       "      <td>[[0, 0, 0, 0, 0, 0, 0, 0, 0, 0, 0, 0, 0, 0, 0,...</td>\n",
       "      <td>2460.0</td>\n",
       "      <td>lot2</td>\n",
       "      <td>[[Training]]</td>\n",
       "      <td>[[Edge-Loc]]</td>\n",
       "      <td>(53, 58)</td>\n",
       "    </tr>\n",
       "    <tr>\n",
       "      <th>...</th>\n",
       "      <td>...</td>\n",
       "      <td>...</td>\n",
       "      <td>...</td>\n",
       "      <td>...</td>\n",
       "      <td>...</td>\n",
       "      <td>...</td>\n",
       "    </tr>\n",
       "    <tr>\n",
       "      <th>811403</th>\n",
       "      <td>[[0, 0, 0, 0, 0, 0, 0, 0, 0, 0, 0, 1, 2, 1, 1,...</td>\n",
       "      <td>600.0</td>\n",
       "      <td>lot47540</td>\n",
       "      <td>[[Test]]</td>\n",
       "      <td>[[none]]</td>\n",
       "      <td>(26, 30)</td>\n",
       "    </tr>\n",
       "    <tr>\n",
       "      <th>811410</th>\n",
       "      <td>[[0, 0, 0, 0, 0, 0, 0, 0, 0, 0, 0, 1, 2, 1, 1,...</td>\n",
       "      <td>600.0</td>\n",
       "      <td>lot47541</td>\n",
       "      <td>[[Test]]</td>\n",
       "      <td>[[none]]</td>\n",
       "      <td>(26, 30)</td>\n",
       "    </tr>\n",
       "    <tr>\n",
       "      <th>811417</th>\n",
       "      <td>[[0, 0, 0, 0, 0, 0, 0, 0, 0, 0, 0, 1, 1, 1, 1,...</td>\n",
       "      <td>600.0</td>\n",
       "      <td>lot47541</td>\n",
       "      <td>[[Test]]</td>\n",
       "      <td>[[none]]</td>\n",
       "      <td>(26, 30)</td>\n",
       "    </tr>\n",
       "    <tr>\n",
       "      <th>811430</th>\n",
       "      <td>[[0, 0, 0, 0, 0, 0, 0, 0, 0, 0, 0, 2, 2, 1, 2,...</td>\n",
       "      <td>600.0</td>\n",
       "      <td>lot47542</td>\n",
       "      <td>[[Test]]</td>\n",
       "      <td>[[none]]</td>\n",
       "      <td>(26, 30)</td>\n",
       "    </tr>\n",
       "    <tr>\n",
       "      <th>811439</th>\n",
       "      <td>[[0, 0, 0, 0, 0, 0, 0, 0, 0, 0, 0, 1, 1, 1, 1,...</td>\n",
       "      <td>600.0</td>\n",
       "      <td>lot47542</td>\n",
       "      <td>[[Test]]</td>\n",
       "      <td>[[none]]</td>\n",
       "      <td>(26, 30)</td>\n",
       "    </tr>\n",
       "  </tbody>\n",
       "</table>\n",
       "<p>46581 rows × 6 columns</p>\n",
       "</div>"
      ],
      "text/plain": [
       "                                                 waferMap  dieSize   lotName  \\\n",
       "19      [[0, 0, 0, 0, 0, 0, 0, 0, 0, 0, 0, 0, 0, 0, 0,...   1683.0      lot1   \n",
       "36      [[0, 0, 0, 0, 0, 0, 0, 0, 0, 0, 0, 0, 0, 0, 0,...   2460.0      lot2   \n",
       "37      [[0, 0, 0, 0, 0, 0, 0, 0, 0, 0, 0, 0, 0, 0, 0,...   2460.0      lot2   \n",
       "38      [[0, 0, 0, 0, 0, 0, 0, 0, 0, 0, 0, 0, 0, 0, 0,...   2460.0      lot2   \n",
       "39      [[0, 0, 0, 0, 0, 0, 0, 0, 0, 0, 0, 0, 0, 0, 0,...   2460.0      lot2   \n",
       "...                                                   ...      ...       ...   \n",
       "811403  [[0, 0, 0, 0, 0, 0, 0, 0, 0, 0, 0, 1, 2, 1, 1,...    600.0  lot47540   \n",
       "811410  [[0, 0, 0, 0, 0, 0, 0, 0, 0, 0, 0, 1, 2, 1, 1,...    600.0  lot47541   \n",
       "811417  [[0, 0, 0, 0, 0, 0, 0, 0, 0, 0, 0, 1, 1, 1, 1,...    600.0  lot47541   \n",
       "811430  [[0, 0, 0, 0, 0, 0, 0, 0, 0, 0, 0, 2, 2, 1, 2,...    600.0  lot47542   \n",
       "811439  [[0, 0, 0, 0, 0, 0, 0, 0, 0, 0, 0, 1, 1, 1, 1,...    600.0  lot47542   \n",
       "\n",
       "       trianTestLabel   failureType waferMapDim  \n",
       "19       [[Training]]       [[Loc]]    (45, 48)  \n",
       "36       [[Training]]  [[Edge-Loc]]    (53, 58)  \n",
       "37       [[Training]]  [[Edge-Loc]]    (53, 58)  \n",
       "38       [[Training]]  [[Edge-Loc]]    (53, 58)  \n",
       "39       [[Training]]  [[Edge-Loc]]    (53, 58)  \n",
       "...               ...           ...         ...  \n",
       "811403       [[Test]]      [[none]]    (26, 30)  \n",
       "811410       [[Test]]      [[none]]    (26, 30)  \n",
       "811417       [[Test]]      [[none]]    (26, 30)  \n",
       "811430       [[Test]]      [[none]]    (26, 30)  \n",
       "811439       [[Test]]      [[none]]    (26, 30)  \n",
       "\n",
       "[46581 rows x 6 columns]"
      ]
     },
     "execution_count": 18,
     "metadata": {},
     "output_type": "execute_result"
    }
   ],
   "source": [
    "defined_df"
   ]
  },
  {
   "cell_type": "code",
   "execution_count": 19,
   "id": "de2c12a7",
   "metadata": {},
   "outputs": [
    {
     "data": {
      "text/plain": [
       "19             [[Loc]]\n",
       "36        [[Edge-Loc]]\n",
       "37        [[Edge-Loc]]\n",
       "38        [[Edge-Loc]]\n",
       "39        [[Edge-Loc]]\n",
       "              ...     \n",
       "811403        [[none]]\n",
       "811410        [[none]]\n",
       "811417        [[none]]\n",
       "811430        [[none]]\n",
       "811439        [[none]]\n",
       "Name: failureType, Length: 46581, dtype: object"
      ]
     },
     "execution_count": 19,
     "metadata": {},
     "output_type": "execute_result"
    }
   ],
   "source": [
    "defined_df['failureType']"
   ]
  },
  {
   "cell_type": "code",
   "execution_count": 20,
   "id": "33463252",
   "metadata": {},
   "outputs": [],
   "source": [
    "USE_CUDA = torch.cuda.is_available()\n",
    "DEVICE = torch.device(\"cpu\")"
   ]
  },
  {
   "cell_type": "code",
   "execution_count": 21,
   "id": "8c20579e",
   "metadata": {},
   "outputs": [],
   "source": [
    "#extract specific dim\n",
    "def subwafer(data, Dim0, Dim1):\n",
    "  sw = torch.ones((1, Dim0, Dim1)).int()\n",
    "  label = list()\n",
    "  Dim0 = np.size(sw, axis=1)\n",
    "  Dim1 = np.size(sw, axis=2)\n",
    "  sub_df = data.loc[data['waferMapDim'] == (Dim0, Dim1)]\n",
    "  sub_wafer = sub_df['waferMap'].values\n",
    "  sw = sw.to(DEVICE)\n",
    "  for i in range(len(sub_df)):\n",
    "    waferMap = torch.from_numpy(sub_df.iloc[i,:]['waferMap'].reshape(1, Dim0, Dim1)).int()\n",
    "    waferMap = waferMap.to(DEVICE)\n",
    "    sw = torch.cat([sw, waferMap]) \n",
    "    label.append(sub_df.iloc[i,:]['failureType'][0][0])\n",
    "  x = sw[1:]\n",
    "  y = np.array(label).reshape((-1,1))\n",
    "  del waferMap, sw\n",
    "  return x, y"
   ]
  },
  {
   "cell_type": "code",
   "execution_count": 22,
   "id": "327fddd3",
   "metadata": {},
   "outputs": [],
   "source": [
    "x, y = subwafer(defined_df,26,26)\n",
    "x1, y1 = subwafer(defined_df, 25, 27)\n",
    "x2, y2 = subwafer(defined_df, 30, 34)\n",
    "x3, y3 = subwafer(defined_df, 29, 26)\n",
    "x4, y4 = subwafer(defined_df, 27, 25)\n",
    "x5, y5 = subwafer(defined_df, 39,37)\n",
    "x6, y6 = subwafer(defined_df, 33,29)\n",
    "x7, y7 = subwafer(defined_df, 42,44)\n",
    "x8, y8 = subwafer(defined_df, 44,41)"
   ]
  },
  {
   "cell_type": "code",
   "execution_count": 23,
   "id": "99bddf9b",
   "metadata": {},
   "outputs": [
    {
     "data": {
      "text/plain": [
       "(torch.Size([2803, 26, 26]),\n",
       " (2803, 1),\n",
       " torch.Size([5168, 25, 27]),\n",
       " (5168, 1),\n",
       " torch.Size([2381, 30, 34]),\n",
       " (2381, 1),\n",
       " torch.Size([2154, 29, 26]),\n",
       " (2154, 1),\n",
       " torch.Size([1747, 27, 25]),\n",
       " (1747, 1),\n",
       " torch.Size([2324, 39, 37]),\n",
       " (2324, 1),\n",
       " torch.Size([1504, 33, 29]),\n",
       " (1504, 1),\n",
       " torch.Size([1105, 42, 44]),\n",
       " (1105, 1),\n",
       " torch.Size([1390, 44, 41]),\n",
       " (1390, 1))"
      ]
     },
     "execution_count": 23,
     "metadata": {},
     "output_type": "execute_result"
    }
   ],
   "source": [
    "x.shape, y.shape, x1.shape, y1.shape, x2.shape, y2.shape, x3.shape, y3.shape, x4.shape, y4.shape, x5.shape, y5.shape, x6.shape, y6.shape, x7.shape, y7.shape, x8.shape, y8.shape"
   ]
  },
  {
   "cell_type": "markdown",
   "id": "257d61ca",
   "metadata": {},
   "source": [
    "Number of donut inages each type is having"
   ]
  },
  {
   "cell_type": "code",
   "execution_count": 24,
   "id": "a8c98ce7",
   "metadata": {},
   "outputs": [
    {
     "data": {
      "text/plain": [
       "((array([], dtype=int64), array([], dtype=int64)),\n",
       " (array([216, 291, 658, 664], dtype=int64), array([0, 0, 0, 0], dtype=int64)),\n",
       " (array([478, 481], dtype=int64), array([0, 0], dtype=int64)),\n",
       " (array([ 49,  79, 158, 172, 228, 229], dtype=int64),\n",
       "  array([0, 0, 0, 0, 0, 0], dtype=int64)),\n",
       " (array([   0,    1,    2,    3,  174,  631,  779,  925,  927,  932,  935,\n",
       "          937,  945,  962,  968,  979,  980,  987,  989,  997, 1006, 1011],\n",
       "        dtype=int64),\n",
       "  array([0, 0, 0, 0, 0, 0, 0, 0, 0, 0, 0, 0, 0, 0, 0, 0, 0, 0, 0, 0, 0, 0],\n",
       "        dtype=int64)),\n",
       " (array([33, 97], dtype=int64), array([0, 0], dtype=int64)),\n",
       " (array([143], dtype=int64), array([0], dtype=int64)),\n",
       " (array([ 13,  19,  21,  33, 380, 382, 530, 531, 540, 580, 581, 582],\n",
       "        dtype=int64),\n",
       "  array([0, 0, 0, 0, 0, 0, 0, 0, 0, 0, 0, 0], dtype=int64)))"
      ]
     },
     "execution_count": 24,
     "metadata": {},
     "output_type": "execute_result"
    }
   ],
   "source": [
    "np.where(y1=='Donut'),np.where(y2=='Donut'),np.where(y3=='Donut'),np.where(y4=='Donut'),np.where(y5=='Donut'),np.where(y6=='Donut'),np.where(y7=='Donut'),np.where(y8=='Donut')"
   ]
  },
  {
   "cell_type": "markdown",
   "id": "b7b8e179",
   "metadata": {},
   "source": [
    "# viewing the dataset images"
   ]
  },
  {
   "cell_type": "code",
   "execution_count": 25,
   "id": "c8ed06aa",
   "metadata": {},
   "outputs": [
    {
     "data": {
      "text/plain": [
       "Text(0.5, 1.0, 'None')"
      ]
     },
     "execution_count": 25,
     "metadata": {},
     "output_type": "execute_result"
    },
    {
     "data": {
      "image/png": "[encoded data removed]",
      "text/plain": [
       "<Figure size 500x600 with 9 Axes>"
      ]
     },
     "metadata": {},
     "output_type": "display_data"
    }
   ],
   "source": [
    "fig, ax = plt.subplots(3,3, figsize = (5,6))\n",
    "ax[0][0].imshow(x[np.where(y=='Center')[0][20]].to('cpu'))\n",
    "ax[0][0].set_title(\"Center\")\n",
    "ax[0][0].axis(\"off\")\n",
    "ax[0][1].imshow(x[np.where(y=='Donut')[0][0]].to('cpu'))\n",
    "ax[0][1].axis(\"off\")\n",
    "ax[0][1].set_title(\"Donut\")\n",
    "ax[0][2].imshow(x[np.where(y=='Edge-Loc')[0][100]].to('cpu'))\n",
    "ax[0][2].axis(\"off\")\n",
    "ax[0][2].set_title(\"Edge-Loc\")\n",
    "ax[1][0].imshow(x[np.where(y=='Edge-Ring')[0][20]].to('cpu'))\n",
    "ax[1][0].axis(\"off\")\n",
    "ax[1][0].set_title(\"Edge-Ring\")\n",
    "ax[1][1].imshow(x[np.where(y=='Loc')[0][15]].to('cpu'))\n",
    "ax[1][1].axis(\"off\")\n",
    "ax[1][1].set_title(\"Loc\")\n",
    "ax[1][2].imshow(x[np.where(y=='Random')[0][20]].to('cpu'))\n",
    "ax[1][2].axis(\"off\")\n",
    "ax[1][2].set_title(\"Random\")\n",
    "ax[2][0].imshow(x[np.where(y=='Scratch')[0][20]].to('cpu'))\n",
    "ax[2][0].axis(\"off\")\n",
    "ax[2][0].set_title(\"Scratch\")\n",
    "ax[2][1].imshow(x[np.where(y=='Near-full')[0][1]].to('cpu'))\n",
    "ax[2][1].axis(\"off\")\n",
    "ax[2][1].set_title(\"Near-full\")\n",
    "ax[2][2].imshow(x[np.where(y=='none')[0][0]].to('cpu'))\n",
    "ax[2][2].axis(\"off\")\n",
    "ax[2][2].set_title(\"None\")"
   ]
  },
  {
   "cell_type": "markdown",
   "id": "bfd2ef8d",
   "metadata": {},
   "source": [
    "# One hot encoding"
   ]
  },
  {
   "cell_type": "code",
   "execution_count": 26,
   "id": "141253bb",
   "metadata": {},
   "outputs": [],
   "source": [
    "#add RGB space for one-hot encoding\n",
    "# 0: non wafer -> R, 1: normal die -> G, 2: defect die -> B|\n",
    "\n",
    "def rgb_sw(x):\n",
    "  Dim0 = np.size(x, axis=1)\n",
    "  Dim1 = np.size(x, axis=2)\n",
    "  new_x = np.zeros((len(x), Dim0, Dim1, 3))\n",
    "  x = torch.unsqueeze(x,-1)\n",
    "  x = x.to(torch.device('cpu'))\n",
    "  x = x.numpy()\n",
    "  for w in range(len(x)): \n",
    "      for i in range(Dim0):\n",
    "          for j in range(Dim1):\n",
    "              new_x[w, i, j, int(x[w, i, j])] = 1\n",
    "  return new_x"
   ]
  },
  {
   "cell_type": "raw",
   "id": "fd4f6b04",
   "metadata": {},
   "source": [
    "converting images which has most variance"
   ]
  },
  {
   "cell_type": "code",
   "execution_count": 27,
   "id": "e2be9704",
   "metadata": {},
   "outputs": [],
   "source": [
    "rgb_x0 = rgb_sw(x1) \n",
    "rgb_x1 = rgb_sw(x2)"
   ]
  },
  {
   "cell_type": "code",
   "execution_count": 28,
   "id": "1503d16a",
   "metadata": {},
   "outputs": [],
   "source": [
    "rgb_x2 = rgb_sw(x3)\n",
    "rgb_x3 = rgb_sw(x4)"
   ]
  },
  {
   "cell_type": "code",
   "execution_count": 29,
   "id": "dbab7abb",
   "metadata": {},
   "outputs": [],
   "source": [
    "rgb_x4 = rgb_sw(x5)\n",
    "rgb_x5 = rgb_sw(x8)"
   ]
  },
  {
   "cell_type": "markdown",
   "id": "bb6106dd",
   "metadata": {},
   "source": [
    "# Resizing images to (26,26,3)"
   ]
  },
  {
   "cell_type": "code",
   "execution_count": 30,
   "id": "c651c102",
   "metadata": {},
   "outputs": [],
   "source": [
    "def resize(x):\n",
    "  rwm = torch.ones((1,26,26,3))\n",
    "  for i in range(len(x)):\n",
    "    rwm = rwm.to(torch.device('cpu'))\n",
    "    a = Image.fromarray(x[i].astype('uint8')).resize((26,26))\n",
    "    a = np.array(a).reshape((1,26,26,3))\n",
    "    a = torch.from_numpy(a).float()\n",
    "    a = a.to(torch.device('cpu'))\n",
    "    rwm = torch.cat([rwm, a])\n",
    "  x = rwm[1:]\n",
    "  del rwm\n",
    "  return x"
   ]
  },
  {
   "cell_type": "code",
   "execution_count": 31,
   "id": "d4e81324",
   "metadata": {},
   "outputs": [],
   "source": [
    "resized_x0 = resize(rgb_x0)\n",
    "resized_x1 = resize(rgb_x1)"
   ]
  },
  {
   "cell_type": "code",
   "execution_count": 32,
   "id": "c506797f",
   "metadata": {},
   "outputs": [],
   "source": [
    "resized_x2 = resize(rgb_x2)\n",
    "resized_x3 = resize(rgb_x3)"
   ]
  },
  {
   "cell_type": "code",
   "execution_count": 33,
   "id": "abc942ab",
   "metadata": {},
   "outputs": [],
   "source": [
    "resized_x4 = resize(rgb_x4)\n",
    "resized_x5 = resize(rgb_x5)"
   ]
  },
  {
   "cell_type": "code",
   "execution_count": 34,
   "id": "dd6cb6a9",
   "metadata": {},
   "outputs": [
    {
     "data": {
      "image/png": "[encoded data removed]",
      "text/plain": [
       "<Figure size 800x550 with 1 Axes>"
      ]
     },
     "metadata": {},
     "output_type": "display_data"
    },
    {
     "data": {
      "image/png": "[encoded data removed]",
      "text/plain": [
       "<Figure size 800x550 with 1 Axes>"
      ]
     },
     "metadata": {},
     "output_type": "display_data"
    }
   ],
   "source": [
    "plt.imshow(resized_x0[1000])\n",
    "plt.show()\n",
    "plt.imshow(np.argmax(resized_x0[1000],axis=2).cpu().numpy())\n",
    "plt.show()"
   ]
  },
  {
   "cell_type": "code",
   "execution_count": 35,
   "id": "5bc4457d",
   "metadata": {},
   "outputs": [
    {
     "name": "stdout",
     "output_type": "stream",
     "text": [
      "Faulty case list : ['Center' 'Donut' 'Edge-Loc' 'Edge-Ring' 'Loc' 'Near-full' 'Random'\n",
      " 'Scratch' 'none']\n"
     ]
    }
   ],
   "source": [
    "faulty_case = np.unique(y)\n",
    "print('Faulty case list : {}'.format(faulty_case))"
   ]
  },
  {
   "cell_type": "code",
   "execution_count": 36,
   "id": "0b0268ca",
   "metadata": {},
   "outputs": [],
   "source": [
    "resized_wm = torch.cat([resized_x0, resized_x1,resized_x2,resized_x3,resized_x4,resized_x5])\n",
    "label_wm = np.concatenate((y1,y2,y3,y4,y5,y8)) "
   ]
  },
  {
   "cell_type": "code",
   "execution_count": 37,
   "id": "ec5b98dd",
   "metadata": {},
   "outputs": [
    {
     "data": {
      "text/plain": [
       "(15164, 1)"
      ]
     },
     "execution_count": 37,
     "metadata": {},
     "output_type": "execute_result"
    }
   ],
   "source": [
    "label_wm.shape"
   ]
  },
  {
   "cell_type": "code",
   "execution_count": 38,
   "id": "81a60109",
   "metadata": {},
   "outputs": [
    {
     "name": "stdout",
     "output_type": "stream",
     "text": [
      "i : 0, l : Center\n",
      "i : 1, l : Donut\n",
      "i : 2, l : Edge-Loc\n",
      "i : 3, l : Edge-Ring\n",
      "i : 4, l : Loc\n",
      "i : 5, l : Near-full\n",
      "i : 6, l : Random\n",
      "i : 7, l : Scratch\n",
      "i : 8, l : none\n"
     ]
    }
   ],
   "source": [
    "for i, l in enumerate(faulty_case):\n",
    "    label_wm[label_wm==l] = i    \n",
    "    print('i : {}, l : {}'.format(i, l))\n",
    "def _to_one_hot(y, num_classes):\n",
    "    scatter_dim = len(y.size())\n",
    "    y_tensor = y.view(*y.size(), -1)\n",
    "    zeros = torch.zeros(*y.size(), num_classes, dtype=y.dtype)\n",
    "    return zeros.scatter(scatter_dim, y_tensor, 1)\n",
    "\n",
    "label_wm = _to_one_hot(torch.as_tensor(np.int64(label_wm)), num_classes=9)"
   ]
  },
  {
   "cell_type": "code",
   "execution_count": 39,
   "id": "deaf2af5",
   "metadata": {},
   "outputs": [],
   "source": [
    "train_X, test_X, train_Y, test_Y = model_selection.train_test_split(resized_wm, label_wm , test_size=0.2)"
   ]
  },
  {
   "cell_type": "markdown",
   "id": "131b2365",
   "metadata": {},
   "source": [
    "# Building CNN"
   ]
  },
  {
   "cell_type": "code",
   "execution_count": 40,
   "id": "0b85eaf0",
   "metadata": {},
   "outputs": [],
   "source": [
    "train_X = train_X.numpy()"
   ]
  },
  {
   "cell_type": "code",
   "execution_count": 41,
   "id": "ef68da26",
   "metadata": {},
   "outputs": [],
   "source": [
    "train_Y = train_Y.numpy()"
   ]
  },
  {
   "cell_type": "code",
   "execution_count": 42,
   "id": "506f6e4a",
   "metadata": {},
   "outputs": [],
   "source": [
    "test_X = test_X.numpy()"
   ]
  },
  {
   "cell_type": "code",
   "execution_count": 43,
   "id": "9e7a95c8",
   "metadata": {},
   "outputs": [],
   "source": [
    "test_Y = test_Y.numpy()"
   ]
  },
  {
   "cell_type": "markdown",
   "id": "7d26f697",
   "metadata": {},
   "source": [
    "reshaping Y to fit model"
   ]
  },
  {
   "cell_type": "code",
   "execution_count": 44,
   "id": "b55a8355",
   "metadata": {},
   "outputs": [],
   "source": [
    "train_Y = train_Y.reshape((train_Y.shape[0], train_Y.shape[2]))"
   ]
  },
  {
   "cell_type": "code",
   "execution_count": 45,
   "id": "9f6e8faa",
   "metadata": {},
   "outputs": [],
   "source": [
    "test_Y = test_Y.reshape((test_Y.shape[0], test_Y.shape[2]))"
   ]
  },
  {
   "cell_type": "code",
   "execution_count": 46,
   "id": "c9af8311",
   "metadata": {},
   "outputs": [
    {
     "name": "stdout",
     "output_type": "stream",
     "text": [
      "Model: \"sequential\"\n",
      "_________________________________________________________________\n",
      " Layer (type)                Output Shape              Param #   \n",
      "=================================================================\n",
      " conv2d (Conv2D)             (None, 23, 23, 32)        1568      \n",
      "                                                                 \n",
      " conv2d_1 (Conv2D)           (None, 23, 23, 32)        16416     \n",
      "                                                                 \n",
      " conv2d_2 (Conv2D)           (None, 23, 23, 128)       65664     \n",
      "                                                                 \n",
      " conv2d_3 (Conv2D)           (None, 23, 23, 128)       262272    \n",
      "                                                                 \n",
      " max_pooling2d (MaxPooling2D  (None, 11, 11, 128)      0         \n",
      " )                                                               \n",
      "                                                                 \n",
      " dropout (Dropout)           (None, 11, 11, 128)       0         \n",
      "                                                                 \n",
      " conv2d_4 (Conv2D)           (None, 11, 11, 256)       524544    \n",
      "                                                                 \n",
      " conv2d_5 (Conv2D)           (None, 11, 11, 256)       1048832   \n",
      "                                                                 \n",
      " conv2d_6 (Conv2D)           (None, 11, 11, 128)       524416    \n",
      "                                                                 \n",
      " conv2d_7 (Conv2D)           (None, 11, 11, 128)       262272    \n",
      "                                                                 \n",
      " max_pooling2d_1 (MaxPooling  (None, 5, 5, 128)        0         \n",
      " 2D)                                                             \n",
      "                                                                 \n",
      " dropout_1 (Dropout)         (None, 5, 5, 128)         0         \n",
      "                                                                 \n",
      " max_pooling2d_2 (MaxPooling  (None, 2, 2, 128)        0         \n",
      " 2D)                                                             \n",
      "                                                                 \n",
      " dense (Dense)               (None, 2, 2, 1024)        132096    \n",
      "                                                                 \n",
      " dense_1 (Dense)             (None, 2, 2, 512)         524800    \n",
      "                                                                 \n",
      " dropout_2 (Dropout)         (None, 2, 2, 512)         0         \n",
      "                                                                 \n",
      " flatten (Flatten)           (None, 2048)              0         \n",
      "                                                                 \n",
      " dense_2 (Dense)             (None, 32)                65568     \n",
      "                                                                 \n",
      " dense_3 (Dense)             (None, 9)                 297       \n",
      "                                                                 \n",
      "=================================================================\n",
      "Total params: 3,428,745\n",
      "Trainable params: 3,428,745\n",
      "Non-trainable params: 0\n",
      "_________________________________________________________________\n"
     ]
    }
   ],
   "source": [
    "model = Sequential()\n",
    "model.add(Conv2D(32,(4,4),activation='relu',input_shape=(26,26,3)))\n",
    "model.add(Conv2D(32,(4,4),activation='relu', padding='same'))\n",
    "model.add(Conv2D(128,(4,4),activation='relu', padding='same'))\n",
    "model.add(Conv2D(128,(4,4),activation='relu', padding='same'))\n",
    "model.add(MaxPooling2D((2, 2)))\n",
    "model.add(Dropout(.3))\n",
    "model.add(Conv2D(256, (4,4), activation='relu', padding='same'))\n",
    "model.add(Conv2D(256, (4,4), activation='relu', padding='same'))\n",
    "model.add(Conv2D(128, (4,4), activation='relu', padding='same'))\n",
    "model.add(Conv2D(128, (4,4), activation='relu', padding='same'))\n",
    "model.add(MaxPooling2D((2, 2)))\n",
    "model.add(Dropout(.3))\n",
    "model.add(MaxPooling2D((2, 2)))\n",
    "model.add(Dense(1024, activation='relu'))\n",
    "model.add(Dense(512, activation='relu'))\n",
    "model.add(Dropout(.3))\n",
    "model.add(Flatten())\n",
    "model.add(Dense(32, activation='relu'))\n",
    "model.add(Dense(9, activation='sigmoid'))\n",
    "model.summary()"
   ]
  },
  {
   "cell_type": "code",
   "execution_count": 47,
   "id": "5d738961",
   "metadata": {},
   "outputs": [],
   "source": [
    "# compiling the model\n",
    "model.compile(loss='categorical_crossentropy',\n",
    "              optimizer='rmsprop',\n",
    "              metrics=['accuracy'])\n",
    "# setting upearly stopping\n",
    "# es = EarlyStopping(monitor='val_loss', mode='min', verbose=1, patience=5)"
   ]
  },
  {
   "cell_type": "code",
   "execution_count": 48,
   "id": "d9daf13b",
   "metadata": {},
   "outputs": [],
   "source": [
    "# defining early stopping so that we don't overfit\n",
    "# also we reduce the learning rate so that we can fit properly\n",
    "from keras.callbacks import EarlyStopping, ReduceLROnPlateau\n",
    "earlystop = EarlyStopping(patience=10)\n",
    "learning_rate_reduction = ReduceLROnPlateau(monitor='val_accuracy', patience=2, verbose=1, factor=0.5, \n",
    "                                            min_lr=0.00001)"
   ]
  },
  {
   "cell_type": "code",
   "execution_count": 49,
   "id": "b916f5a1",
   "metadata": {},
   "outputs": [],
   "source": [
    "callbacks = [earlystop, learning_rate_reduction]"
   ]
  },
  {
   "cell_type": "code",
   "execution_count": 50,
   "id": "7dc14e96",
   "metadata": {},
   "outputs": [
    {
     "name": "stdout",
     "output_type": "stream",
     "text": [
      "Epoch 1/100\n",
      "25/25 [==============================] - 103s 4s/step - loss: 3.0430 - accuracy: 0.4077 - val_loss: 1.2508 - val_accuracy: 0.6057 - lr: 0.0010\n",
      "Epoch 2/100\n",
      "25/25 [==============================] - 111s 4s/step - loss: 1.4097 - accuracy: 0.6301 - val_loss: 1.2345 - val_accuracy: 0.7521 - lr: 0.0010\n",
      "Epoch 3/100\n",
      "25/25 [==============================] - 101s 4s/step - loss: 1.1123 - accuracy: 0.7279 - val_loss: 0.8704 - val_accuracy: 0.7699 - lr: 0.0010\n",
      "Epoch 4/100\n",
      "25/25 [==============================] - 102s 4s/step - loss: 0.8742 - accuracy: 0.7647 - val_loss: 0.9253 - val_accuracy: 0.7755 - lr: 0.0010\n",
      "Epoch 5/100\n",
      "25/25 [==============================] - 102s 4s/step - loss: 0.8208 - accuracy: 0.7839 - val_loss: 0.6824 - val_accuracy: 0.8042 - lr: 0.0010\n",
      "Epoch 6/100\n",
      "25/25 [==============================] - 100s 4s/step - loss: 0.7787 - accuracy: 0.7904 - val_loss: 0.6382 - val_accuracy: 0.8216 - lr: 0.0010\n",
      "Epoch 7/100\n",
      "25/25 [==============================] - 104s 4s/step - loss: 0.7144 - accuracy: 0.8057 - val_loss: 0.6376 - val_accuracy: 0.8180 - lr: 0.0010\n",
      "Epoch 8/100\n",
      "25/25 [==============================] - 95s 4s/step - loss: 0.6830 - accuracy: 0.8051 - val_loss: 0.6206 - val_accuracy: 0.8371 - lr: 0.0010\n",
      "Epoch 9/100\n",
      "25/25 [==============================] - 89s 4s/step - loss: 0.6217 - accuracy: 0.8205 - val_loss: 0.6096 - val_accuracy: 0.8190 - lr: 0.0010\n",
      "Epoch 10/100\n",
      "25/25 [==============================] - 89s 4s/step - loss: 0.5965 - accuracy: 0.8260 - val_loss: 0.5561 - val_accuracy: 0.8447 - lr: 0.0010\n",
      "Epoch 11/100\n",
      "25/25 [==============================] - 88s 4s/step - loss: 0.5848 - accuracy: 0.8283 - val_loss: 0.4949 - val_accuracy: 0.8605 - lr: 0.0010\n",
      "Epoch 12/100\n",
      "25/25 [==============================] - 88s 4s/step - loss: 0.5368 - accuracy: 0.8375 - val_loss: 0.8074 - val_accuracy: 0.7524 - lr: 0.0010\n",
      "Epoch 13/100\n",
      "25/25 [==============================] - 89s 4s/step - loss: 0.5430 - accuracy: 0.8362 - val_loss: 0.4298 - val_accuracy: 0.8747 - lr: 0.0010\n",
      "Epoch 14/100\n",
      "25/25 [==============================] - 89s 4s/step - loss: 0.5029 - accuracy: 0.8476 - val_loss: 0.5470 - val_accuracy: 0.8305 - lr: 0.0010\n",
      "Epoch 15/100\n",
      "25/25 [==============================] - ETA: 0s - loss: 0.4791 - accuracy: 0.8543\n",
      "Epoch 15: ReduceLROnPlateau reducing learning rate to 0.0005000000237487257.\n",
      "25/25 [==============================] - 89s 4s/step - loss: 0.4791 - accuracy: 0.8543 - val_loss: 0.6615 - val_accuracy: 0.7900 - lr: 0.0010\n",
      "Epoch 16/100\n",
      "25/25 [==============================] - 89s 4s/step - loss: 0.3891 - accuracy: 0.8778 - val_loss: 0.3937 - val_accuracy: 0.8826 - lr: 5.0000e-04\n",
      "Epoch 17/100\n",
      "25/25 [==============================] - 89s 4s/step - loss: 0.3648 - accuracy: 0.8819 - val_loss: 0.3837 - val_accuracy: 0.8810 - lr: 5.0000e-04\n",
      "Epoch 18/100\n",
      "25/25 [==============================] - ETA: 0s - loss: 0.3533 - accuracy: 0.8862\n",
      "Epoch 18: ReduceLROnPlateau reducing learning rate to 0.0002500000118743628.\n",
      "25/25 [==============================] - 89s 4s/step - loss: 0.3533 - accuracy: 0.8862 - val_loss: 0.4548 - val_accuracy: 0.8500 - lr: 5.0000e-04\n",
      "Epoch 19/100\n",
      "25/25 [==============================] - 89s 4s/step - loss: 0.3117 - accuracy: 0.8969 - val_loss: 0.3577 - val_accuracy: 0.8905 - lr: 2.5000e-04\n",
      "Epoch 20/100\n",
      "25/25 [==============================] - 90s 4s/step - loss: 0.2901 - accuracy: 0.8998 - val_loss: 0.3854 - val_accuracy: 0.8849 - lr: 2.5000e-04\n",
      "Epoch 21/100\n",
      "25/25 [==============================] - 89s 4s/step - loss: 0.2763 - accuracy: 0.9059 - val_loss: 0.3444 - val_accuracy: 0.8935 - lr: 2.5000e-04\n",
      "Epoch 22/100\n",
      "25/25 [==============================] - 89s 4s/step - loss: 0.2645 - accuracy: 0.9101 - val_loss: 0.3407 - val_accuracy: 0.8905 - lr: 2.5000e-04\n",
      "Epoch 23/100\n",
      "25/25 [==============================] - ETA: 0s - loss: 0.2516 - accuracy: 0.9123\n",
      "Epoch 23: ReduceLROnPlateau reducing learning rate to 0.0001250000059371814.\n",
      "25/25 [==============================] - 88s 4s/step - loss: 0.2516 - accuracy: 0.9123 - val_loss: 0.3633 - val_accuracy: 0.8932 - lr: 2.5000e-04\n",
      "Epoch 24/100\n",
      "25/25 [==============================] - 89s 4s/step - loss: 0.2254 - accuracy: 0.9215 - val_loss: 0.3428 - val_accuracy: 0.8902 - lr: 1.2500e-04\n",
      "Epoch 25/100\n",
      "25/25 [==============================] - 90s 4s/step - loss: 0.2159 - accuracy: 0.9235 - val_loss: 0.3335 - val_accuracy: 0.8975 - lr: 1.2500e-04\n",
      "Epoch 26/100\n",
      "25/25 [==============================] - 89s 4s/step - loss: 0.2067 - accuracy: 0.9261 - val_loss: 0.3432 - val_accuracy: 0.9001 - lr: 1.2500e-04\n",
      "Epoch 27/100\n",
      "25/25 [==============================] - 90s 4s/step - loss: 0.1991 - accuracy: 0.9296 - val_loss: 0.3506 - val_accuracy: 0.8942 - lr: 1.2500e-04\n",
      "Epoch 28/100\n",
      "25/25 [==============================] - ETA: 0s - loss: 0.1865 - accuracy: 0.9318\n",
      "Epoch 28: ReduceLROnPlateau reducing learning rate to 6.25000029685907e-05.\n",
      "25/25 [==============================] - 89s 4s/step - loss: 0.1865 - accuracy: 0.9318 - val_loss: 0.3771 - val_accuracy: 0.8955 - lr: 1.2500e-04\n",
      "Epoch 29/100\n",
      "25/25 [==============================] - 89s 4s/step - loss: 0.1748 - accuracy: 0.9364 - val_loss: 0.3480 - val_accuracy: 0.8975 - lr: 6.2500e-05\n",
      "Epoch 30/100\n",
      "25/25 [==============================] - ETA: 0s - loss: 0.1724 - accuracy: 0.9371\n",
      "Epoch 30: ReduceLROnPlateau reducing learning rate to 3.125000148429535e-05.\n",
      "25/25 [==============================] - 88s 4s/step - loss: 0.1724 - accuracy: 0.9371 - val_loss: 0.3543 - val_accuracy: 0.8975 - lr: 6.2500e-05\n",
      "Epoch 31/100\n",
      "25/25 [==============================] - 89s 4s/step - loss: 0.1627 - accuracy: 0.9406 - val_loss: 0.3631 - val_accuracy: 0.8975 - lr: 3.1250e-05\n",
      "Epoch 32/100\n",
      "25/25 [==============================] - ETA: 0s - loss: 0.1603 - accuracy: 0.9416\n",
      "Epoch 32: ReduceLROnPlateau reducing learning rate to 1.5625000742147677e-05.\n",
      "25/25 [==============================] - 89s 4s/step - loss: 0.1603 - accuracy: 0.9416 - val_loss: 0.3604 - val_accuracy: 0.8971 - lr: 3.1250e-05\n",
      "Epoch 33/100\n",
      "25/25 [==============================] - 89s 4s/step - loss: 0.1590 - accuracy: 0.9422 - val_loss: 0.3666 - val_accuracy: 0.8968 - lr: 1.5625e-05\n",
      "Epoch 34/100\n",
      "25/25 [==============================] - ETA: 0s - loss: 0.1560 - accuracy: 0.9428\n",
      "Epoch 34: ReduceLROnPlateau reducing learning rate to 1e-05.\n",
      "25/25 [==============================] - 89s 4s/step - loss: 0.1560 - accuracy: 0.9428 - val_loss: 0.3709 - val_accuracy: 0.8971 - lr: 1.5625e-05\n",
      "Epoch 35/100\n",
      "25/25 [==============================] - 89s 4s/step - loss: 0.1536 - accuracy: 0.9439 - val_loss: 0.3659 - val_accuracy: 0.8975 - lr: 1.0000e-05\n"
     ]
    }
   ],
   "source": [
    "history = model.fit(train_X, train_Y,\n",
    "                      batch_size=500, epochs=100,\n",
    "                      validation_data=(test_X, test_Y),callbacks=callbacks)"
   ]
  },
  {
   "cell_type": "code",
   "execution_count": 51,
   "id": "5009b8c9",
   "metadata": {},
   "outputs": [
    {
     "data": {
      "text/plain": [
       "<matplotlib.legend.Legend at 0x1f3c1269848>"
      ]
     },
     "execution_count": 51,
     "metadata": {},
     "output_type": "execute_result"
    },
    {
     "data": {
      "image/png": "[encoded data removed]",
      "text/plain": [
       "<Figure size 800x550 with 1 Axes>"
      ]
     },
     "metadata": {},
     "output_type": "display_data"
    }
   ],
   "source": [
    "# Plotting the training and validation results\n",
    "import matplotlib.pyplot as plt\n",
    "plt.plot(history.history['accuracy'], label='accuracy')\n",
    "plt.plot(history.history['val_accuracy'], label = 'val_accuracy')\n",
    "plt.xlabel('Epoch')\n",
    "plt.ylabel('Accuracy')\n",
    "plt.ylim([0.5, 1])\n",
    "plt.legend(loc='lower right')"
   ]
  },
  {
   "cell_type": "markdown",
   "id": "f5ff28f0",
   "metadata": {},
   "source": [
    "# Using 4 fold CV"
   ]
  },
  {
   "cell_type": "code",
   "execution_count": 52,
   "id": "e031c468",
   "metadata": {},
   "outputs": [],
   "source": [
    "def create_model():\n",
    "    model = Sequential()\n",
    "    model.add(Conv2D(32,(4,4),activation='relu',input_shape=(26,26,3)))\n",
    "    model.add(Conv2D(32,(4,4),activation='relu', padding='same'))\n",
    "    model.add(Conv2D(128,(4,4),activation='relu', padding='same'))\n",
    "    model.add(Conv2D(128,(4,4),activation='relu', padding='same'))\n",
    "    model.add(MaxPooling2D((2, 2)))\n",
    "    model.add(Dropout(.3))\n",
    "    model.add(Conv2D(256, (4,4), activation='relu', padding='same'))\n",
    "    model.add(Conv2D(256, (4,4), activation='relu', padding='same'))\n",
    "    model.add(Conv2D(128, (4,4), activation='relu', padding='same'))\n",
    "    model.add(Conv2D(128, (4,4), activation='relu', padding='same'))\n",
    "    model.add(MaxPooling2D((2, 2)))\n",
    "    model.add(Dropout(.3))\n",
    "    model.add(MaxPooling2D((2, 2)))\n",
    "    model.add(Dense(1024, activation='relu'))\n",
    "    model.add(Dense(512, activation='relu'))\n",
    "    model.add(Dropout(.3))\n",
    "    model.add(Flatten())\n",
    "    model.add(Dense(32, activation='relu'))\n",
    "    model.add(Dense(9, activation='sigmoid'))\n",
    "    model.compile(loss='categorical_crossentropy',\n",
    "              optimizer='rmsprop',\n",
    "              metrics=['accuracy'])\n",
    "    return model\n",
    "    "
   ]
  },
  {
   "cell_type": "code",
   "execution_count": 53,
   "id": "88f30277",
   "metadata": {},
   "outputs": [
    {
     "name": "stderr",
     "output_type": "stream",
     "text": [
      "D:\\Anaconda\\envs\\tf\\lib\\site-packages\\ipykernel_launcher.py:1: DeprecationWarning: KerasClassifier is deprecated, use Sci-Keras (https://github.com/adriangb/scikeras) instead. See https://www.adriangb.com/scikeras/stable/migration.html for help migrating.\n",
      "  \"\"\"Entry point for launching an IPython kernel.\n"
     ]
    },
    {
     "name": "stdout",
     "output_type": "stream",
     "text": [
      "Epoch 1/50\n",
      "9/9 - 62s - loss: 8.7952 - accuracy: 0.3371 - 62s/epoch - 7s/step\n",
      "Epoch 2/50\n",
      "9/9 - 60s - loss: 1.4291 - accuracy: 0.6023 - 60s/epoch - 7s/step\n",
      "Epoch 3/50\n",
      "9/9 - 60s - loss: 1.3406 - accuracy: 0.6168 - 60s/epoch - 7s/step\n",
      "Epoch 4/50\n",
      "9/9 - 59s - loss: 1.2030 - accuracy: 0.7004 - 59s/epoch - 7s/step\n",
      "Epoch 5/50\n",
      "9/9 - 60s - loss: 1.0856 - accuracy: 0.7259 - 60s/epoch - 7s/step\n",
      "Epoch 6/50\n",
      "9/9 - 60s - loss: 0.8275 - accuracy: 0.7664 - 60s/epoch - 7s/step\n",
      "Epoch 7/50\n",
      "9/9 - 61s - loss: 0.8505 - accuracy: 0.7692 - 61s/epoch - 7s/step\n",
      "Epoch 8/50\n",
      "9/9 - 62s - loss: 0.7800 - accuracy: 0.7856 - 62s/epoch - 7s/step\n",
      "Epoch 9/50\n",
      "9/9 - 62s - loss: 0.7917 - accuracy: 0.7775 - 62s/epoch - 7s/step\n",
      "Epoch 10/50\n",
      "9/9 - 62s - loss: 0.7072 - accuracy: 0.7959 - 62s/epoch - 7s/step\n",
      "Epoch 11/50\n",
      "9/9 - 63s - loss: 0.7601 - accuracy: 0.7919 - 63s/epoch - 7s/step\n",
      "Epoch 12/50\n",
      "9/9 - 63s - loss: 0.7147 - accuracy: 0.8049 - 63s/epoch - 7s/step\n",
      "Epoch 13/50\n",
      "9/9 - 63s - loss: 0.6720 - accuracy: 0.8107 - 63s/epoch - 7s/step\n",
      "Epoch 14/50\n",
      "9/9 - 64s - loss: 0.6946 - accuracy: 0.8064 - 64s/epoch - 7s/step\n",
      "Epoch 15/50\n",
      "9/9 - 63s - loss: 0.6599 - accuracy: 0.8172 - 63s/epoch - 7s/step\n",
      "Epoch 16/50\n",
      "9/9 - 63s - loss: 0.6519 - accuracy: 0.8101 - 63s/epoch - 7s/step\n",
      "Epoch 17/50\n",
      "9/9 - 63s - loss: 0.6453 - accuracy: 0.8185 - 63s/epoch - 7s/step\n",
      "Epoch 18/50\n",
      "9/9 - 63s - loss: 0.6188 - accuracy: 0.8284 - 63s/epoch - 7s/step\n",
      "Epoch 19/50\n",
      "9/9 - 63s - loss: 0.6160 - accuracy: 0.8212 - 63s/epoch - 7s/step\n",
      "Epoch 20/50\n",
      "9/9 - 63s - loss: 0.6755 - accuracy: 0.8213 - 63s/epoch - 7s/step\n",
      "Epoch 21/50\n",
      "9/9 - 63s - loss: 0.5931 - accuracy: 0.8260 - 63s/epoch - 7s/step\n",
      "Epoch 22/50\n",
      "9/9 - 63s - loss: 0.5574 - accuracy: 0.8329 - 63s/epoch - 7s/step\n",
      "Epoch 23/50\n",
      "9/9 - 64s - loss: 0.5471 - accuracy: 0.8368 - 64s/epoch - 7s/step\n",
      "Epoch 24/50\n",
      "9/9 - 64s - loss: 0.5396 - accuracy: 0.8400 - 64s/epoch - 7s/step\n",
      "Epoch 25/50\n",
      "9/9 - 64s - loss: 0.5368 - accuracy: 0.8366 - 64s/epoch - 7s/step\n",
      "Epoch 26/50\n",
      "9/9 - 94s - loss: 0.5220 - accuracy: 0.8457 - 94s/epoch - 10s/step\n",
      "Epoch 27/50\n",
      "9/9 - 131s - loss: 0.5073 - accuracy: 0.8510 - 131s/epoch - 15s/step\n",
      "Epoch 28/50\n",
      "9/9 - 127s - loss: 0.5150 - accuracy: 0.8363 - 127s/epoch - 14s/step\n",
      "Epoch 29/50\n",
      "9/9 - 131s - loss: 0.4832 - accuracy: 0.8539 - 131s/epoch - 15s/step\n",
      "Epoch 30/50\n",
      "9/9 - 132s - loss: 0.4583 - accuracy: 0.8601 - 132s/epoch - 15s/step\n",
      "Epoch 31/50\n",
      "9/9 - 137s - loss: 0.4438 - accuracy: 0.8640 - 137s/epoch - 15s/step\n",
      "Epoch 32/50\n",
      "9/9 - 140s - loss: 0.4299 - accuracy: 0.8685 - 140s/epoch - 16s/step\n",
      "Epoch 33/50\n",
      "9/9 - 142s - loss: 0.4338 - accuracy: 0.8634 - 142s/epoch - 16s/step\n",
      "Epoch 34/50\n",
      "9/9 - 140s - loss: 0.4091 - accuracy: 0.8680 - 140s/epoch - 16s/step\n",
      "Epoch 35/50\n",
      "9/9 - 144s - loss: 0.4295 - accuracy: 0.8660 - 144s/epoch - 16s/step\n",
      "Epoch 36/50\n",
      "9/9 - 144s - loss: 0.4379 - accuracy: 0.8629 - 144s/epoch - 16s/step\n",
      "Epoch 37/50\n",
      "9/9 - 143s - loss: 0.3773 - accuracy: 0.8801 - 143s/epoch - 16s/step\n",
      "Epoch 38/50\n",
      "9/9 - 127s - loss: 0.3457 - accuracy: 0.8889 - 127s/epoch - 14s/step\n",
      "Epoch 39/50\n",
      "9/9 - 63s - loss: 0.3851 - accuracy: 0.8747 - 63s/epoch - 7s/step\n",
      "Epoch 40/50\n",
      "9/9 - 61s - loss: 0.3392 - accuracy: 0.8890 - 61s/epoch - 7s/step\n",
      "Epoch 41/50\n",
      "9/9 - 62s - loss: 0.3770 - accuracy: 0.8815 - 62s/epoch - 7s/step\n",
      "Epoch 42/50\n",
      "9/9 - 60s - loss: 0.2738 - accuracy: 0.9069 - 60s/epoch - 7s/step\n",
      "Epoch 43/50\n",
      "9/9 - 60s - loss: 0.4073 - accuracy: 0.8726 - 60s/epoch - 7s/step\n",
      "Epoch 44/50\n",
      "9/9 - 63s - loss: 0.2461 - accuracy: 0.9166 - 63s/epoch - 7s/step\n",
      "Epoch 45/50\n",
      "9/9 - 63s - loss: 0.4277 - accuracy: 0.8698 - 63s/epoch - 7s/step\n",
      "Epoch 46/50\n",
      "9/9 - 62s - loss: 0.2796 - accuracy: 0.9059 - 62s/epoch - 7s/step\n",
      "Epoch 47/50\n",
      "9/9 - 62s - loss: 0.2228 - accuracy: 0.9233 - 62s/epoch - 7s/step\n",
      "Epoch 48/50\n",
      "9/9 - 60s - loss: 0.3728 - accuracy: 0.8842 - 60s/epoch - 7s/step\n",
      "Epoch 49/50\n",
      "9/9 - 60s - loss: 0.2888 - accuracy: 0.9044 - 60s/epoch - 7s/step\n",
      "Epoch 50/50\n",
      "9/9 - 60s - loss: 0.2306 - accuracy: 0.9197 - 60s/epoch - 7s/step\n",
      "3/3 - 6s - loss: 0.4453 - accuracy: 0.8675 - 6s/epoch - 2s/step\n",
      "Epoch 1/50\n",
      "9/9 - 61s - loss: 11.0277 - accuracy: 0.2005 - 61s/epoch - 7s/step\n",
      "Epoch 2/50\n",
      "9/9 - 60s - loss: 1.4992 - accuracy: 0.5784 - 60s/epoch - 7s/step\n",
      "Epoch 3/50\n",
      "9/9 - 59s - loss: 1.4001 - accuracy: 0.6016 - 59s/epoch - 7s/step\n",
      "Epoch 4/50\n",
      "9/9 - 59s - loss: 1.2485 - accuracy: 0.6267 - 59s/epoch - 7s/step\n",
      "Epoch 5/50\n",
      "9/9 - 59s - loss: 1.1815 - accuracy: 0.6770 - 59s/epoch - 7s/step\n",
      "Epoch 6/50\n",
      "9/9 - 60s - loss: 1.0063 - accuracy: 0.7347 - 60s/epoch - 7s/step\n",
      "Epoch 7/50\n",
      "9/9 - 60s - loss: 0.8836 - accuracy: 0.7601 - 60s/epoch - 7s/step\n",
      "Epoch 8/50\n",
      "9/9 - 60s - loss: 0.8455 - accuracy: 0.7614 - 60s/epoch - 7s/step\n",
      "Epoch 9/50\n",
      "9/9 - 59s - loss: 0.8134 - accuracy: 0.7667 - 59s/epoch - 7s/step\n",
      "Epoch 10/50\n",
      "9/9 - 60s - loss: 0.7688 - accuracy: 0.7796 - 60s/epoch - 7s/step\n",
      "Epoch 11/50\n",
      "9/9 - 60s - loss: 0.7448 - accuracy: 0.7904 - 60s/epoch - 7s/step\n",
      "Epoch 12/50\n",
      "9/9 - 60s - loss: 0.7317 - accuracy: 0.7887 - 60s/epoch - 7s/step\n",
      "Epoch 13/50\n",
      "9/9 - 59s - loss: 0.7189 - accuracy: 0.7994 - 59s/epoch - 7s/step\n",
      "Epoch 14/50\n",
      "9/9 - 60s - loss: 0.7091 - accuracy: 0.8003 - 60s/epoch - 7s/step\n",
      "Epoch 15/50\n",
      "9/9 - 59s - loss: 0.6984 - accuracy: 0.7960 - 59s/epoch - 7s/step\n",
      "Epoch 16/50\n",
      "9/9 - 59s - loss: 0.6580 - accuracy: 0.8096 - 59s/epoch - 7s/step\n",
      "Epoch 17/50\n",
      "9/9 - 60s - loss: 0.6621 - accuracy: 0.8122 - 60s/epoch - 7s/step\n",
      "Epoch 18/50\n",
      "9/9 - 60s - loss: 0.7335 - accuracy: 0.7686 - 60s/epoch - 7s/step\n",
      "Epoch 19/50\n",
      "9/9 - 59s - loss: 0.6388 - accuracy: 0.8127 - 59s/epoch - 7s/step\n",
      "Epoch 20/50\n",
      "9/9 - 59s - loss: 0.5881 - accuracy: 0.8281 - 59s/epoch - 7s/step\n",
      "Epoch 21/50\n",
      "9/9 - 60s - loss: 0.5846 - accuracy: 0.8292 - 60s/epoch - 7s/step\n",
      "Epoch 22/50\n",
      "9/9 - 60s - loss: 0.5829 - accuracy: 0.8294 - 60s/epoch - 7s/step\n",
      "Epoch 23/50\n",
      "9/9 - 59s - loss: 0.6449 - accuracy: 0.8217 - 59s/epoch - 7s/step\n",
      "Epoch 24/50\n",
      "9/9 - 60s - loss: 0.5331 - accuracy: 0.8366 - 60s/epoch - 7s/step\n",
      "Epoch 25/50\n",
      "9/9 - 59s - loss: 0.5295 - accuracy: 0.8378 - 59s/epoch - 7s/step\n",
      "Epoch 26/50\n",
      "9/9 - 60s - loss: 0.5376 - accuracy: 0.8401 - 60s/epoch - 7s/step\n",
      "Epoch 27/50\n",
      "9/9 - 59s - loss: 0.5082 - accuracy: 0.8460 - 59s/epoch - 7s/step\n",
      "Epoch 28/50\n",
      "9/9 - 60s - loss: 0.5317 - accuracy: 0.8362 - 60s/epoch - 7s/step\n",
      "Epoch 29/50\n",
      "9/9 - 59s - loss: 0.4770 - accuracy: 0.8505 - 59s/epoch - 7s/step\n",
      "Epoch 30/50\n",
      "9/9 - 60s - loss: 0.4500 - accuracy: 0.8590 - 60s/epoch - 7s/step\n",
      "Epoch 31/50\n",
      "9/9 - 59s - loss: 0.4780 - accuracy: 0.8501 - 59s/epoch - 7s/step\n",
      "Epoch 32/50\n",
      "9/9 - 61s - loss: 0.4672 - accuracy: 0.8537 - 61s/epoch - 7s/step\n",
      "Epoch 33/50\n",
      "9/9 - 60s - loss: 0.4016 - accuracy: 0.8762 - 60s/epoch - 7s/step\n",
      "Epoch 34/50\n",
      "9/9 - 60s - loss: 0.4340 - accuracy: 0.8657 - 60s/epoch - 7s/step\n",
      "Epoch 35/50\n",
      "9/9 - 59s - loss: 0.4096 - accuracy: 0.8682 - 59s/epoch - 7s/step\n",
      "Epoch 36/50\n",
      "9/9 - 60s - loss: 0.4338 - accuracy: 0.8603 - 60s/epoch - 7s/step\n",
      "Epoch 37/50\n",
      "9/9 - 60s - loss: 0.3803 - accuracy: 0.8763 - 60s/epoch - 7s/step\n",
      "Epoch 38/50\n",
      "9/9 - 59s - loss: 0.4017 - accuracy: 0.8688 - 59s/epoch - 7s/step\n",
      "Epoch 39/50\n",
      "9/9 - 59s - loss: 0.3520 - accuracy: 0.8831 - 59s/epoch - 7s/step\n",
      "Epoch 40/50\n",
      "9/9 - 60s - loss: 0.3589 - accuracy: 0.8766 - 60s/epoch - 7s/step\n",
      "Epoch 41/50\n",
      "9/9 - 59s - loss: 0.3842 - accuracy: 0.8746 - 59s/epoch - 7s/step\n",
      "Epoch 42/50\n",
      "9/9 - 60s - loss: 0.3321 - accuracy: 0.8896 - 60s/epoch - 7s/step\n",
      "Epoch 43/50\n",
      "9/9 - 59s - loss: 0.3261 - accuracy: 0.8910 - 59s/epoch - 7s/step\n",
      "Epoch 44/50\n",
      "9/9 - 61s - loss: 0.3541 - accuracy: 0.8866 - 61s/epoch - 7s/step\n",
      "Epoch 45/50\n",
      "9/9 - 60s - loss: 0.3460 - accuracy: 0.8863 - 60s/epoch - 7s/step\n",
      "Epoch 46/50\n",
      "9/9 - 59s - loss: 0.3302 - accuracy: 0.8955 - 59s/epoch - 7s/step\n",
      "Epoch 47/50\n",
      "9/9 - 59s - loss: 0.2828 - accuracy: 0.9039 - 59s/epoch - 7s/step\n",
      "Epoch 48/50\n",
      "9/9 - 60s - loss: 0.3491 - accuracy: 0.8851 - 60s/epoch - 7s/step\n",
      "Epoch 49/50\n",
      "9/9 - 60s - loss: 0.2318 - accuracy: 0.9210 - 60s/epoch - 7s/step\n",
      "Epoch 50/50\n",
      "9/9 - 60s - loss: 0.2991 - accuracy: 0.9022 - 60s/epoch - 7s/step\n",
      "3/3 - 6s - loss: 0.3853 - accuracy: 0.8856 - 6s/epoch - 2s/step\n",
      "Epoch 1/50\n",
      "9/9 - 62s - loss: 16.9560 - accuracy: 0.3087 - 62s/epoch - 7s/step\n",
      "Epoch 2/50\n",
      "9/9 - 60s - loss: 1.6043 - accuracy: 0.5993 - 60s/epoch - 7s/step\n",
      "Epoch 3/50\n",
      "9/9 - 60s - loss: 1.2657 - accuracy: 0.6249 - 60s/epoch - 7s/step\n",
      "Epoch 4/50\n",
      "9/9 - 61s - loss: 1.1870 - accuracy: 0.6679 - 61s/epoch - 7s/step\n",
      "Epoch 5/50\n",
      "9/9 - 59s - loss: 0.9803 - accuracy: 0.7552 - 59s/epoch - 7s/step\n",
      "Epoch 6/50\n",
      "9/9 - 60s - loss: 0.8769 - accuracy: 0.7632 - 60s/epoch - 7s/step\n",
      "Epoch 7/50\n",
      "9/9 - 60s - loss: 0.8934 - accuracy: 0.7628 - 60s/epoch - 7s/step\n",
      "Epoch 8/50\n",
      "9/9 - 60s - loss: 0.8425 - accuracy: 0.7641 - 60s/epoch - 7s/step\n",
      "Epoch 9/50\n",
      "9/9 - 60s - loss: 0.8278 - accuracy: 0.7653 - 60s/epoch - 7s/step\n",
      "Epoch 10/50\n",
      "9/9 - 61s - loss: 0.7459 - accuracy: 0.7905 - 61s/epoch - 7s/step\n",
      "Epoch 11/50\n",
      "9/9 - 63s - loss: 0.7347 - accuracy: 0.7953 - 63s/epoch - 7s/step\n",
      "Epoch 12/50\n",
      "9/9 - 67s - loss: 0.7634 - accuracy: 0.7754 - 67s/epoch - 7s/step\n",
      "Epoch 13/50\n",
      "9/9 - 64s - loss: 0.6855 - accuracy: 0.8004 - 64s/epoch - 7s/step\n",
      "Epoch 14/50\n",
      "9/9 - 64s - loss: 0.6761 - accuracy: 0.8081 - 64s/epoch - 7s/step\n",
      "Epoch 15/50\n",
      "9/9 - 63s - loss: 0.6893 - accuracy: 0.8035 - 63s/epoch - 7s/step\n",
      "Epoch 16/50\n",
      "9/9 - 63s - loss: 0.6857 - accuracy: 0.8051 - 63s/epoch - 7s/step\n",
      "Epoch 17/50\n",
      "9/9 - 65s - loss: 0.7294 - accuracy: 0.8029 - 65s/epoch - 7s/step\n",
      "Epoch 18/50\n",
      "9/9 - 63s - loss: 0.6288 - accuracy: 0.8175 - 63s/epoch - 7s/step\n",
      "Epoch 19/50\n",
      "9/9 - 60s - loss: 0.6646 - accuracy: 0.7982 - 60s/epoch - 7s/step\n",
      "Epoch 20/50\n",
      "9/9 - 59s - loss: 0.5733 - accuracy: 0.8336 - 59s/epoch - 7s/step\n",
      "Epoch 21/50\n",
      "9/9 - 59s - loss: 0.5922 - accuracy: 0.8241 - 59s/epoch - 7s/step\n",
      "Epoch 22/50\n",
      "9/9 - 59s - loss: 0.5985 - accuracy: 0.8269 - 59s/epoch - 7s/step\n",
      "Epoch 23/50\n",
      "9/9 - 59s - loss: 0.5580 - accuracy: 0.8368 - 59s/epoch - 7s/step\n",
      "Epoch 24/50\n",
      "9/9 - 60s - loss: 0.5787 - accuracy: 0.8308 - 60s/epoch - 7s/step\n",
      "Epoch 25/50\n",
      "9/9 - 60s - loss: 0.5650 - accuracy: 0.8322 - 60s/epoch - 7s/step\n",
      "Epoch 26/50\n",
      "9/9 - 59s - loss: 0.5391 - accuracy: 0.8391 - 59s/epoch - 7s/step\n",
      "Epoch 27/50\n",
      "9/9 - 59s - loss: 0.5046 - accuracy: 0.8478 - 59s/epoch - 7s/step\n",
      "Epoch 28/50\n",
      "9/9 - 60s - loss: 0.5231 - accuracy: 0.8428 - 60s/epoch - 7s/step\n",
      "Epoch 29/50\n",
      "9/9 - 59s - loss: 0.4756 - accuracy: 0.8571 - 59s/epoch - 7s/step\n",
      "Epoch 30/50\n",
      "9/9 - 60s - loss: 0.4929 - accuracy: 0.8518 - 60s/epoch - 7s/step\n",
      "Epoch 31/50\n",
      "9/9 - 59s - loss: 0.4565 - accuracy: 0.8559 - 59s/epoch - 7s/step\n",
      "Epoch 32/50\n",
      "9/9 - 59s - loss: 0.4585 - accuracy: 0.8626 - 59s/epoch - 7s/step\n",
      "Epoch 33/50\n",
      "9/9 - 59s - loss: 0.4752 - accuracy: 0.8534 - 59s/epoch - 7s/step\n",
      "Epoch 34/50\n",
      "9/9 - 59s - loss: 0.4809 - accuracy: 0.8503 - 59s/epoch - 7s/step\n",
      "Epoch 35/50\n",
      "9/9 - 60s - loss: 0.4645 - accuracy: 0.8579 - 60s/epoch - 7s/step\n",
      "Epoch 36/50\n",
      "9/9 - 59s - loss: 0.4123 - accuracy: 0.8745 - 59s/epoch - 7s/step\n",
      "Epoch 37/50\n",
      "9/9 - 59s - loss: 0.4200 - accuracy: 0.8680 - 59s/epoch - 7s/step\n",
      "Epoch 38/50\n",
      "9/9 - 60s - loss: 0.3971 - accuracy: 0.8726 - 60s/epoch - 7s/step\n",
      "Epoch 39/50\n",
      "9/9 - 60s - loss: 0.3884 - accuracy: 0.8791 - 60s/epoch - 7s/step\n",
      "Epoch 40/50\n",
      "9/9 - 59s - loss: 0.3992 - accuracy: 0.8710 - 59s/epoch - 7s/step\n",
      "Epoch 41/50\n",
      "9/9 - 60s - loss: 0.4066 - accuracy: 0.8732 - 60s/epoch - 7s/step\n",
      "Epoch 42/50\n",
      "9/9 - 60s - loss: 0.3538 - accuracy: 0.8898 - 60s/epoch - 7s/step\n",
      "Epoch 43/50\n",
      "9/9 - 59s - loss: 0.3900 - accuracy: 0.8794 - 59s/epoch - 7s/step\n",
      "Epoch 44/50\n",
      "9/9 - 59s - loss: 0.3438 - accuracy: 0.8923 - 59s/epoch - 7s/step\n",
      "Epoch 45/50\n",
      "9/9 - 60s - loss: 0.3599 - accuracy: 0.8818 - 60s/epoch - 7s/step\n",
      "Epoch 46/50\n",
      "9/9 - 60s - loss: 0.3346 - accuracy: 0.8926 - 60s/epoch - 7s/step\n",
      "Epoch 47/50\n",
      "9/9 - 60s - loss: 0.3161 - accuracy: 0.8954 - 60s/epoch - 7s/step\n",
      "Epoch 48/50\n",
      "9/9 - 60s - loss: 0.2870 - accuracy: 0.9126 - 60s/epoch - 7s/step\n",
      "Epoch 49/50\n",
      "9/9 - 60s - loss: 0.3443 - accuracy: 0.8939 - 60s/epoch - 7s/step\n",
      "Epoch 50/50\n",
      "9/9 - 59s - loss: 0.2827 - accuracy: 0.9066 - 59s/epoch - 7s/step\n",
      "3/3 - 6s - loss: 0.4285 - accuracy: 0.8628 - 6s/epoch - 2s/step\n",
      "Epoch 1/50\n",
      "9/9 - 60s - loss: 12.7494 - accuracy: 0.4066 - 60s/epoch - 7s/step\n",
      "Epoch 2/50\n",
      "9/9 - 59s - loss: 1.5447 - accuracy: 0.5952 - 59s/epoch - 7s/step\n",
      "Epoch 3/50\n",
      "9/9 - 59s - loss: 1.3624 - accuracy: 0.6006 - 59s/epoch - 7s/step\n",
      "Epoch 4/50\n",
      "9/9 - 59s - loss: 1.3542 - accuracy: 0.6004 - 59s/epoch - 7s/step\n",
      "Epoch 5/50\n",
      "9/9 - 59s - loss: 1.3733 - accuracy: 0.6000 - 59s/epoch - 7s/step\n",
      "Epoch 6/50\n",
      "9/9 - 59s - loss: 1.3458 - accuracy: 0.6007 - 59s/epoch - 7s/step\n",
      "Epoch 7/50\n",
      "9/9 - 60s - loss: 1.3653 - accuracy: 0.6468 - 60s/epoch - 7s/step\n",
      "Epoch 8/50\n",
      "9/9 - 59s - loss: 1.2649 - accuracy: 0.6815 - 59s/epoch - 7s/step\n",
      "Epoch 9/50\n",
      "9/9 - 59s - loss: 0.9192 - accuracy: 0.7546 - 59s/epoch - 7s/step\n",
      "Epoch 10/50\n",
      "9/9 - 58s - loss: 0.8684 - accuracy: 0.7665 - 58s/epoch - 6s/step\n",
      "Epoch 11/50\n",
      "9/9 - 59s - loss: 0.8262 - accuracy: 0.7806 - 59s/epoch - 7s/step\n",
      "Epoch 12/50\n",
      "9/9 - 59s - loss: 0.7728 - accuracy: 0.7918 - 59s/epoch - 7s/step\n",
      "Epoch 13/50\n",
      "9/9 - 59s - loss: 0.7827 - accuracy: 0.7893 - 59s/epoch - 7s/step\n",
      "Epoch 14/50\n",
      "9/9 - 59s - loss: 0.7146 - accuracy: 0.8018 - 59s/epoch - 7s/step\n",
      "Epoch 15/50\n",
      "9/9 - 59s - loss: 0.7655 - accuracy: 0.8049 - 59s/epoch - 7s/step\n",
      "Epoch 16/50\n",
      "9/9 - 59s - loss: 0.7667 - accuracy: 0.7891 - 59s/epoch - 7s/step\n",
      "Epoch 17/50\n",
      "9/9 - 58s - loss: 0.6769 - accuracy: 0.8099 - 58s/epoch - 6s/step\n",
      "Epoch 18/50\n",
      "9/9 - 59s - loss: 0.6845 - accuracy: 0.8089 - 59s/epoch - 7s/step\n",
      "Epoch 19/50\n",
      "9/9 - 59s - loss: 0.6973 - accuracy: 0.8060 - 59s/epoch - 7s/step\n",
      "Epoch 20/50\n",
      "9/9 - 59s - loss: 0.7078 - accuracy: 0.7994 - 59s/epoch - 7s/step\n",
      "Epoch 21/50\n",
      "9/9 - 60s - loss: 0.6416 - accuracy: 0.8190 - 60s/epoch - 7s/step\n",
      "Epoch 22/50\n",
      "9/9 - 60s - loss: 0.6000 - accuracy: 0.8254 - 60s/epoch - 7s/step\n",
      "Epoch 23/50\n",
      "9/9 - 59s - loss: 0.6100 - accuracy: 0.8221 - 59s/epoch - 7s/step\n",
      "Epoch 24/50\n",
      "9/9 - 59s - loss: 0.7286 - accuracy: 0.7728 - 59s/epoch - 7s/step\n",
      "Epoch 25/50\n",
      "9/9 - 59s - loss: 0.5843 - accuracy: 0.8297 - 59s/epoch - 7s/step\n",
      "Epoch 26/50\n",
      "9/9 - 59s - loss: 0.5641 - accuracy: 0.8316 - 59s/epoch - 7s/step\n",
      "Epoch 27/50\n",
      "9/9 - 59s - loss: 0.5417 - accuracy: 0.8402 - 59s/epoch - 7s/step\n",
      "Epoch 28/50\n",
      "9/9 - 59s - loss: 0.5425 - accuracy: 0.8388 - 59s/epoch - 7s/step\n",
      "Epoch 29/50\n",
      "9/9 - 59s - loss: 0.5205 - accuracy: 0.8402 - 59s/epoch - 7s/step\n",
      "Epoch 30/50\n",
      "9/9 - 58s - loss: 0.5026 - accuracy: 0.8467 - 58s/epoch - 6s/step\n",
      "Epoch 31/50\n",
      "9/9 - 59s - loss: 0.4876 - accuracy: 0.8506 - 59s/epoch - 7s/step\n",
      "Epoch 32/50\n",
      "9/9 - 59s - loss: 0.5071 - accuracy: 0.8446 - 59s/epoch - 7s/step\n",
      "Epoch 33/50\n",
      "9/9 - 59s - loss: 0.4819 - accuracy: 0.8533 - 59s/epoch - 7s/step\n",
      "Epoch 34/50\n",
      "9/9 - 58s - loss: 0.4604 - accuracy: 0.8587 - 58s/epoch - 6s/step\n",
      "Epoch 35/50\n",
      "9/9 - 59s - loss: 0.4562 - accuracy: 0.8542 - 59s/epoch - 7s/step\n",
      "Epoch 36/50\n",
      "9/9 - 59s - loss: 0.4285 - accuracy: 0.8665 - 59s/epoch - 7s/step\n",
      "Epoch 37/50\n",
      "9/9 - 59s - loss: 0.4482 - accuracy: 0.8588 - 59s/epoch - 7s/step\n",
      "Epoch 38/50\n",
      "9/9 - 59s - loss: 0.4341 - accuracy: 0.8667 - 59s/epoch - 7s/step\n",
      "Epoch 39/50\n",
      "9/9 - 59s - loss: 0.4220 - accuracy: 0.8660 - 59s/epoch - 7s/step\n",
      "Epoch 40/50\n",
      "9/9 - 59s - loss: 0.3769 - accuracy: 0.8808 - 59s/epoch - 7s/step\n",
      "Epoch 41/50\n",
      "9/9 - 60s - loss: 0.4488 - accuracy: 0.8639 - 60s/epoch - 7s/step\n",
      "Epoch 42/50\n",
      "9/9 - 59s - loss: 0.3754 - accuracy: 0.8799 - 59s/epoch - 7s/step\n",
      "Epoch 43/50\n",
      "9/9 - 60s - loss: 0.3908 - accuracy: 0.8758 - 60s/epoch - 7s/step\n",
      "Epoch 44/50\n",
      "9/9 - 58s - loss: 0.4040 - accuracy: 0.8695 - 58s/epoch - 6s/step\n",
      "Epoch 45/50\n",
      "9/9 - 59s - loss: 0.3302 - accuracy: 0.8931 - 59s/epoch - 7s/step\n",
      "Epoch 46/50\n",
      "9/9 - 59s - loss: 0.3967 - accuracy: 0.8727 - 59s/epoch - 7s/step\n",
      "Epoch 47/50\n",
      "9/9 - 59s - loss: 0.3068 - accuracy: 0.8945 - 59s/epoch - 7s/step\n",
      "Epoch 48/50\n",
      "9/9 - 59s - loss: 0.3703 - accuracy: 0.8855 - 59s/epoch - 7s/step\n",
      "Epoch 49/50\n",
      "9/9 - 59s - loss: 0.3291 - accuracy: 0.8922 - 59s/epoch - 7s/step\n",
      "Epoch 50/50\n",
      "9/9 - 60s - loss: 0.3275 - accuracy: 0.8899 - 60s/epoch - 7s/step\n",
      "WARNING:tensorflow:5 out of the last 255 calls to <function Model.make_test_function.<locals>.test_function at 0x000001F3BE8998B8> triggered tf.function retracing. Tracing is expensive and the excessive number of tracings could be due to (1) creating @tf.function repeatedly in a loop, (2) passing tensors with different shapes, (3) passing Python objects instead of tensors. For (1), please define your @tf.function outside of the loop. For (2), @tf.function has reduce_retracing=True option that can avoid unnecessary retracing. For (3), please refer to https://www.tensorflow.org/guide/function#controlling_retracing and https://www.tensorflow.org/api_docs/python/tf/function for  more details.\n",
      "3/3 - 6s - loss: 0.4335 - accuracy: 0.8724 - 6s/epoch - 2s/step\n",
      "Simple CNN Cross validation score : 0.8721\n"
     ]
    }
   ],
   "source": [
    "\n",
    "model = KerasClassifier(build_fn=create_model, epochs=50, batch_size=1024, verbose=2) \n",
    "# 3-Fold Crossvalidation\n",
    "kfold = KFold(n_splits=4, shuffle=True, random_state=2019) \n",
    "results = cross_val_score(model, train_X, train_Y, cv=kfold)\n",
    "# Check 3-fold model's mean accuracy\n",
    "print('Simple CNN Cross validation score : {:.4f}'.format(np.mean(results)))"
   ]
  },
  {
   "cell_type": "markdown",
   "id": "3440178f",
   "metadata": {},
   "source": [
    "# Applying other algorithms"
   ]
  },
  {
   "cell_type": "markdown",
   "id": "d3feb816",
   "metadata": {},
   "source": [
    "1. SVC\n",
    "2. Decision Tree\n",
    "3. Random Forest\n",
    "4. ADA Boost\n",
    "5. Gradient Boosting\n",
    "6. BAGGING ENSEMBLE MODEL\n",
    "7. K means\n",
    "8. XG Boost\n",
    "9. KNN"
   ]
  },
  {
   "cell_type": "code",
   "execution_count": 54,
   "id": "39205dba",
   "metadata": {},
   "outputs": [],
   "source": [
    "from sklearn.svm import SVC\n",
    "from sklearn.tree import DecisionTreeClassifier\n",
    "from sklearn.ensemble import RandomForestClassifier,AdaBoostClassifier,GradientBoostingClassifier,BaggingClassifier,BaggingRegressor\n",
    "from sklearn.cluster import KMeans\n",
    "from xgboost import XGBClassifier\n",
    "from sklearn.neighbors import KNeighborsClassifier\n"
   ]
  },
  {
   "cell_type": "markdown",
   "id": "23849c9e",
   "metadata": {},
   "source": [
    "Preparing the data again in 2d "
   ]
  },
  {
   "cell_type": "code",
   "execution_count": 55,
   "id": "7e6eca55",
   "metadata": {},
   "outputs": [],
   "source": [
    "label_wm_new = np.concatenate((y1,y2,y3,y4,y5,y8))"
   ]
  },
  {
   "cell_type": "code",
   "execution_count": 56,
   "id": "2e26b185",
   "metadata": {},
   "outputs": [
    {
     "data": {
      "text/plain": [
       "array([['Edge-Loc'],\n",
       "       ['Edge-Loc'],\n",
       "       ['Edge-Loc'],\n",
       "       ...,\n",
       "       ['none'],\n",
       "       ['none'],\n",
       "       ['none']], dtype='<U9')"
      ]
     },
     "execution_count": 56,
     "metadata": {},
     "output_type": "execute_result"
    }
   ],
   "source": [
    "label_wm_new"
   ]
  },
  {
   "cell_type": "code",
   "execution_count": 57,
   "id": "23dd4e5c",
   "metadata": {},
   "outputs": [
    {
     "name": "stdout",
     "output_type": "stream",
     "text": [
      "[2 2 2 ... 8 8 8]\n"
     ]
    },
    {
     "name": "stderr",
     "output_type": "stream",
     "text": [
      "D:\\Anaconda\\envs\\tf\\lib\\site-packages\\sklearn\\utils\\validation.py:63: DataConversionWarning: A column-vector y was passed when a 1d array was expected. Please change the shape of y to (n_samples, ), for example using ravel().\n",
      "  return f(*args, **kwargs)\n"
     ]
    }
   ],
   "source": [
    "from sklearn.preprocessing import LabelEncoder\n",
    "label_encoder = LabelEncoder()\n",
    "integer_encoded = label_encoder.fit_transform(label_wm_new)\n",
    "print(integer_encoded)\n"
   ]
  },
  {
   "cell_type": "code",
   "execution_count": 58,
   "id": "71812f04",
   "metadata": {},
   "outputs": [
    {
     "data": {
      "text/plain": [
       "array(['Edge-Loc', 'Edge-Loc', 'Edge-Loc', ..., 'none', 'none', 'none'],\n",
       "      dtype='<U9')"
      ]
     },
     "execution_count": 58,
     "metadata": {},
     "output_type": "execute_result"
    }
   ],
   "source": [
    "label_encoder.inverse_transform(integer_encoded)"
   ]
  },
  {
   "cell_type": "code",
   "execution_count": 59,
   "id": "423f1807",
   "metadata": {},
   "outputs": [],
   "source": [
    "train_X1, test_X1, train_Y1, test_Y1 = model_selection.train_test_split(resized_wm, integer_encoded , test_size=0.2)"
   ]
  },
  {
   "cell_type": "code",
   "execution_count": 60,
   "id": "a006a400",
   "metadata": {},
   "outputs": [],
   "source": [
    "train_X1 = train_X1.numpy()\n",
    "test_X1 = test_X1.numpy()"
   ]
  },
  {
   "cell_type": "code",
   "execution_count": 61,
   "id": "ff7a926c",
   "metadata": {},
   "outputs": [],
   "source": [
    "trainnew1 = train_X1.reshape(12131 , 2028)"
   ]
  },
  {
   "cell_type": "code",
   "execution_count": 62,
   "id": "dc6c5dc1",
   "metadata": {},
   "outputs": [],
   "source": [
    "testnew1 = test_X1.reshape(3033 , 2028)"
   ]
  },
  {
   "cell_type": "markdown",
   "id": "7aff2090",
   "metadata": {},
   "source": [
    "# Applying SVC"
   ]
  },
  {
   "cell_type": "code",
   "execution_count": 63,
   "id": "959a480d",
   "metadata": {},
   "outputs": [
    {
     "data": {
      "text/plain": [
       "SVC(kernel='linear', random_state=0)"
      ]
     },
     "execution_count": 63,
     "metadata": {},
     "output_type": "execute_result"
    }
   ],
   "source": [
    "classifier = SVC(kernel = 'linear', random_state = 0)\n",
    "classifier.fit(trainnew1, train_Y1)"
   ]
  },
  {
   "cell_type": "code",
   "execution_count": 64,
   "id": "cee0e2d1",
   "metadata": {},
   "outputs": [
    {
     "name": "stdout",
     "output_type": "stream",
     "text": [
      "[[2 8]\n",
      " [8 8]\n",
      " [8 8]\n",
      " ...\n",
      " [8 8]\n",
      " [8 8]\n",
      " [0 0]]\n"
     ]
    }
   ],
   "source": [
    "y_pred = classifier.predict(testnew1)\n",
    "print(np.concatenate((y_pred.reshape(len(y_pred),1), test_Y1.reshape(len(test_Y1),1)),1))\n"
   ]
  },
  {
   "cell_type": "code",
   "execution_count": 65,
   "id": "75e487db",
   "metadata": {},
   "outputs": [
    {
     "name": "stdout",
     "output_type": "stream",
     "text": [
      "[[ 480    0    1    0    9    0    0    0   26]\n",
      " [   0    4    1    0    5    0    0    1    0]\n",
      " [   1    0  253    6    9    0    2    6  104]\n",
      " [   0    0   13    7    0    0    0    0    1]\n",
      " [   7    1   23    0   41    0    1    9  102]\n",
      " [   0    0    0    0    0   16    0    0    0]\n",
      " [   0    1   10    0    2    1   10    1    0]\n",
      " [   2    0    5    0    5    0    0    3   26]\n",
      " [  28    0  103    2   42    0    0   29 1634]]\n"
     ]
    },
    {
     "data": {
      "text/plain": [
       "0.8071216617210683"
      ]
     },
     "execution_count": 65,
     "metadata": {},
     "output_type": "execute_result"
    },
    {
     "data": {
      "image/png": "[encoded data removed]",
      "text/plain": [
       "<Figure size 800x550 with 1 Axes>"
      ]
     },
     "metadata": {},
     "output_type": "display_data"
    }
   ],
   "source": [
    "cm = confusion_matrix(test_Y1, y_pred)\n",
    "sns.heatmap(cm,cmap='YlGnBu', annot = True,cbar = False)\n",
    "print(cm)\n",
    "accuracy_score(test_Y1, y_pred)"
   ]
  },
  {
   "cell_type": "code",
   "execution_count": 87,
   "id": "fe94d06c",
   "metadata": {},
   "outputs": [
    {
     "data": {
      "text/plain": [
       "SVC(kernel='poly', random_state=0)"
      ]
     },
     "execution_count": 87,
     "metadata": {},
     "output_type": "execute_result"
    }
   ],
   "source": [
    "\n",
    "classifier = SVC(kernel = 'poly', random_state = 0)\n",
    "classifier.fit(trainnew1, train_Y1)"
   ]
  },
  {
   "cell_type": "code",
   "execution_count": 88,
   "id": "9fa5168c",
   "metadata": {},
   "outputs": [
    {
     "name": "stdout",
     "output_type": "stream",
     "text": [
      "[[8 8]\n",
      " [8 8]\n",
      " [8 8]\n",
      " ...\n",
      " [8 8]\n",
      " [8 8]\n",
      " [8 0]]\n"
     ]
    }
   ],
   "source": [
    "y_pred = classifier.predict(testnew1)\n",
    "print(np.concatenate((y_pred.reshape(len(y_pred),1), test_Y1.reshape(len(test_Y1),1)),1))\n"
   ]
  },
  {
   "cell_type": "code",
   "execution_count": 89,
   "id": "7868c2b8",
   "metadata": {},
   "outputs": [
    {
     "name": "stdout",
     "output_type": "stream",
     "text": [
      "[[ 473    0    2    0    5    0    0    0   36]\n",
      " [   0    3    0    0    7    0    1    0    0]\n",
      " [   1    0  245    3    8    0    2    0  122]\n",
      " [   0    0   11    9    0    0    0    0    1]\n",
      " [   3    1   18    0   41    0    0    0  121]\n",
      " [   0    0    0    0    0   16    0    0    0]\n",
      " [   0    1    8    0    2    1   13    0    0]\n",
      " [   0    0    5    0    3    0    0    0   33]\n",
      " [   7    0   58    1   15    0    0    0 1757]]\n"
     ]
    },
    {
     "data": {
      "text/plain": [
       "0.8430596768875701"
      ]
     },
     "execution_count": 89,
     "metadata": {},
     "output_type": "execute_result"
    },
    {
     "data": {
      "image/png": "[encoded data removed]",
      "text/plain": [
       "<Figure size 800x550 with 1 Axes>"
      ]
     },
     "metadata": {},
     "output_type": "display_data"
    }
   ],
   "source": [
    "cm = confusion_matrix(test_Y1, y_pred)\n",
    "sns.heatmap(cm,cmap='YlGnBu', annot = True,cbar = False)\n",
    "print(cm)\n",
    "accuracy_score(test_Y1, y_pred)"
   ]
  },
  {
   "cell_type": "markdown",
   "id": "6da40d32",
   "metadata": {},
   "source": [
    "# APPLYING DECISION TREE"
   ]
  },
  {
   "cell_type": "code",
   "execution_count": 66,
   "id": "67a0be63",
   "metadata": {},
   "outputs": [
    {
     "name": "stdout",
     "output_type": "stream",
     "text": [
      "Train data accuracy: 1.0\n",
      "Test data accuracy: 0.7138147049126278\n"
     ]
    }
   ],
   "source": [
    "# Creating Decision Tree Classifier\n",
    "clf = DecisionTreeClassifier(random_state = 0)\n",
    "clf.fit(trainnew1, train_Y1)\n",
    "\n",
    "# Predict Accuracy Score\n",
    "y_pred = clf.predict(testnew1)\n",
    "print(\"Train data accuracy:\",accuracy_score(y_true = train_Y1, y_pred=clf.predict(trainnew1)))\n",
    "print(\"Test data accuracy:\",accuracy_score(y_true = test_Y1, y_pred=y_pred))"
   ]
  },
  {
   "cell_type": "code",
   "execution_count": 67,
   "id": "cb04e7e2",
   "metadata": {},
   "outputs": [
    {
     "name": "stdout",
     "output_type": "stream",
     "text": [
      "Confusion Matrix:\n",
      "[[ 443    0   10    0   10    0    4    0   49]\n",
      " [   1    0    3    0    2    0    1    2    2]\n",
      " [  14    0  172   14   22    3    3    2  151]\n",
      " [   1    0    8    7    0    1    1    1    2]\n",
      " [  13    0   23    0   36    0    0   10  102]\n",
      " [   0    0    2    0    1   10    3    0    0]\n",
      " [   1    0    9    0    5    0    6    2    2]\n",
      " [   2    0    9    1    4    0    0    1   24]\n",
      " [  29    1  164    8  108    0    2   36 1490]]\n",
      "Classification Report\n",
      "              precision    recall  f1-score   support\n",
      "\n",
      "           0       0.88      0.86      0.87       516\n",
      "           1       0.00      0.00      0.00        11\n",
      "           2       0.43      0.45      0.44       381\n",
      "           3       0.23      0.33      0.27        21\n",
      "           4       0.19      0.20      0.19       184\n",
      "           5       0.71      0.62      0.67        16\n",
      "           6       0.30      0.24      0.27        25\n",
      "           7       0.02      0.02      0.02        41\n",
      "           8       0.82      0.81      0.81      1838\n",
      "\n",
      "    accuracy                           0.71      3033\n",
      "   macro avg       0.40      0.39      0.39      3033\n",
      "weighted avg       0.72      0.71      0.72      3033\n",
      "\n"
     ]
    }
   ],
   "source": [
    "print(\"Confusion Matrix:\")\n",
    "print(confusion_matrix(test_Y1, y_pred))\n",
    "\n",
    "print(\"Classification Report\")\n",
    "print(classification_report(test_Y1, y_pred))"
   ]
  },
  {
   "cell_type": "markdown",
   "id": "9c6fa351",
   "metadata": {},
   "source": [
    "# APPLYING RANDOM FOREST"
   ]
  },
  {
   "cell_type": "code",
   "execution_count": 68,
   "id": "f8042604",
   "metadata": {},
   "outputs": [
    {
     "name": "stdout",
     "output_type": "stream",
     "text": [
      "Train data accuracy: 0.9466655675542\n",
      "Test data accuracy: 0.7303000329706562\n"
     ]
    }
   ],
   "source": [
    "clf_rand = RandomForestClassifier(n_estimators=3, max_features=\"auto\",random_state=0)\n",
    "clf_rand.fit(trainnew1, train_Y1)\n",
    "y_pred = clf_rand.predict(testnew1)\n",
    "print(\"Train data accuracy:\",accuracy_score(y_true = train_Y1, y_pred=clf_rand.predict(trainnew1)))\n",
    "print(\"Test data accuracy:\",accuracy_score(y_true = test_Y1, y_pred=y_pred))"
   ]
  },
  {
   "cell_type": "code",
   "execution_count": 69,
   "id": "eee04a44",
   "metadata": {},
   "outputs": [
    {
     "name": "stdout",
     "output_type": "stream",
     "text": [
      "Confusion Matrix:\n",
      "[[ 454    0    4    1   10    0    0    0   47]\n",
      " [   2    0    2    0    1    0    0    0    6]\n",
      " [  29    1  144    3    7    0    0    2  195]\n",
      " [   2    0   10    6    0    0    0    0    3]\n",
      " [  14    3   30    0   15    0    0    0  122]\n",
      " [   1    2    3    0    1    9    0    0    0]\n",
      " [   5    0    9    0    1    1    4    0    5]\n",
      " [   1    0    6    0    1    0    0    4   29]\n",
      " [  71    5  144    4   34    0    0    1 1579]]\n",
      "Classification Report\n",
      "              precision    recall  f1-score   support\n",
      "\n",
      "           0       0.78      0.88      0.83       516\n",
      "           1       0.00      0.00      0.00        11\n",
      "           2       0.41      0.38      0.39       381\n",
      "           3       0.43      0.29      0.34        21\n",
      "           4       0.21      0.08      0.12       184\n",
      "           5       0.90      0.56      0.69        16\n",
      "           6       1.00      0.16      0.28        25\n",
      "           7       0.57      0.10      0.17        41\n",
      "           8       0.80      0.86      0.83      1838\n",
      "\n",
      "    accuracy                           0.73      3033\n",
      "   macro avg       0.57      0.37      0.40      3033\n",
      "weighted avg       0.70      0.73      0.71      3033\n",
      "\n"
     ]
    }
   ],
   "source": [
    "print(\"Confusion Matrix:\")\n",
    "print(confusion_matrix(test_Y1, y_pred))\n",
    "\n",
    "print(\"Classification Report\")\n",
    "print(classification_report(test_Y1, y_pred))"
   ]
  },
  {
   "cell_type": "markdown",
   "id": "69691eb8",
   "metadata": {},
   "source": [
    "# APPLYING ADABOOST\n"
   ]
  },
  {
   "cell_type": "code",
   "execution_count": 70,
   "id": "60ecaef2",
   "metadata": {},
   "outputs": [
    {
     "name": "stdout",
     "output_type": "stream",
     "text": [
      "Train data accuracy: 0.7463523205011953\n",
      "Test data accuracy: 0.7467853610286844\n"
     ]
    }
   ],
   "source": [
    "clf_ada = AdaBoostClassifier(n_estimators=3)\n",
    "clf_ada.fit(trainnew1, train_Y1)\n",
    "y_pred = clf_ada.predict(testnew1)\n",
    "print(\"Train data accuracy:\",accuracy_score(y_true = train_Y1, y_pred=clf_ada.predict(trainnew1)))\n",
    "print(\"Test data accuracy:\",accuracy_score(y_true = test_Y1, y_pred=y_pred))"
   ]
  },
  {
   "cell_type": "code",
   "execution_count": 71,
   "id": "cc665293",
   "metadata": {},
   "outputs": [
    {
     "name": "stdout",
     "output_type": "stream",
     "text": [
      "Confusion Matrix:\n",
      "[[ 427    0    0    0    0    0    0    0   89]\n",
      " [   0    0    0    0    0    0    0    0   11]\n",
      " [  23    0    0    0    0    0    0    0  358]\n",
      " [   4    0    0    0    0    0    0    0   17]\n",
      " [   2    0    0    0    0    0    0    0  182]\n",
      " [   0    0    0    0    0    0    0    0   16]\n",
      " [   3    0    0    0    0    0    0    0   22]\n",
      " [   2    0    0    0    0    0    0    0   39]\n",
      " [   0    0    0    0    0    0    0    0 1838]]\n",
      "Classification Report\n",
      "              precision    recall  f1-score   support\n",
      "\n",
      "           0       0.93      0.83      0.87       516\n",
      "           1       0.00      0.00      0.00        11\n",
      "           2       0.00      0.00      0.00       381\n",
      "           3       0.00      0.00      0.00        21\n",
      "           4       0.00      0.00      0.00       184\n",
      "           5       0.00      0.00      0.00        16\n",
      "           6       0.00      0.00      0.00        25\n",
      "           7       0.00      0.00      0.00        41\n",
      "           8       0.71      1.00      0.83      1838\n",
      "\n",
      "    accuracy                           0.75      3033\n",
      "   macro avg       0.18      0.20      0.19      3033\n",
      "weighted avg       0.59      0.75      0.65      3033\n",
      "\n"
     ]
    },
    {
     "name": "stderr",
     "output_type": "stream",
     "text": [
      "D:\\Anaconda\\envs\\tf\\lib\\site-packages\\sklearn\\metrics\\_classification.py:1248: UndefinedMetricWarning: Precision and F-score are ill-defined and being set to 0.0 in labels with no predicted samples. Use `zero_division` parameter to control this behavior.\n",
      "  _warn_prf(average, modifier, msg_start, len(result))\n",
      "D:\\Anaconda\\envs\\tf\\lib\\site-packages\\sklearn\\metrics\\_classification.py:1248: UndefinedMetricWarning: Precision and F-score are ill-defined and being set to 0.0 in labels with no predicted samples. Use `zero_division` parameter to control this behavior.\n",
      "  _warn_prf(average, modifier, msg_start, len(result))\n",
      "D:\\Anaconda\\envs\\tf\\lib\\site-packages\\sklearn\\metrics\\_classification.py:1248: UndefinedMetricWarning: Precision and F-score are ill-defined and being set to 0.0 in labels with no predicted samples. Use `zero_division` parameter to control this behavior.\n",
      "  _warn_prf(average, modifier, msg_start, len(result))\n"
     ]
    }
   ],
   "source": [
    "print(\"Confusion Matrix:\")\n",
    "print(confusion_matrix(test_Y1, y_pred))\n",
    "\n",
    "print(\"Classification Report\")\n",
    "print(classification_report(test_Y1, y_pred))"
   ]
  },
  {
   "cell_type": "markdown",
   "id": "eabf537c",
   "metadata": {},
   "source": [
    "# APPLYING GRADIENT BOOSTING"
   ]
  },
  {
   "cell_type": "code",
   "execution_count": 72,
   "id": "5aa0f658",
   "metadata": {},
   "outputs": [
    {
     "name": "stdout",
     "output_type": "stream",
     "text": [
      "Train data accuracy: 0.7519577940812794\n",
      "Test data accuracy: 0.7464556544675239\n"
     ]
    }
   ],
   "source": [
    "clf_grad = GradientBoostingClassifier(n_estimators=5)\n",
    "clf_grad.fit(trainnew1, train_Y1)\n",
    "y_pred = clf_grad.predict(testnew1)\n",
    "print(\"Train data accuracy:\",accuracy_score(y_true = train_Y1, y_pred=clf_grad.predict(trainnew1)))\n",
    "print(\"Test data accuracy:\",accuracy_score(y_true = test_Y1, y_pred=y_pred))"
   ]
  },
  {
   "cell_type": "code",
   "execution_count": 73,
   "id": "c31e34c2",
   "metadata": {},
   "outputs": [
    {
     "name": "stdout",
     "output_type": "stream",
     "text": [
      "Confusion Matrix:\n",
      "[[ 424    1    0    0    0    3    0    0   88]\n",
      " [   0    0    0    0    0    1    0    0   10]\n",
      " [  15    0    0    1    0    1    0    0  364]\n",
      " [   3    0    0    1    0    0    0    0   17]\n",
      " [   0    1    0    1    0    1    0    1  180]\n",
      " [   0    2    0    0    0   11    1    0    2]\n",
      " [   2    0    0    1    0    6    0    0   16]\n",
      " [   2    0    0    0    0    0    0    0   39]\n",
      " [   0    3    0    5    0    2    0    0 1828]]\n",
      "Classification Report\n",
      "              precision    recall  f1-score   support\n",
      "\n",
      "           0       0.95      0.82      0.88       516\n",
      "           1       0.00      0.00      0.00        11\n",
      "           2       0.00      0.00      0.00       381\n",
      "           3       0.11      0.05      0.07        21\n",
      "           4       0.00      0.00      0.00       184\n",
      "           5       0.44      0.69      0.54        16\n",
      "           6       0.00      0.00      0.00        25\n",
      "           7       0.00      0.00      0.00        41\n",
      "           8       0.72      0.99      0.83      1838\n",
      "\n",
      "    accuracy                           0.75      3033\n",
      "   macro avg       0.25      0.28      0.26      3033\n",
      "weighted avg       0.60      0.75      0.66      3033\n",
      "\n"
     ]
    },
    {
     "name": "stderr",
     "output_type": "stream",
     "text": [
      "D:\\Anaconda\\envs\\tf\\lib\\site-packages\\sklearn\\metrics\\_classification.py:1248: UndefinedMetricWarning: Precision and F-score are ill-defined and being set to 0.0 in labels with no predicted samples. Use `zero_division` parameter to control this behavior.\n",
      "  _warn_prf(average, modifier, msg_start, len(result))\n",
      "D:\\Anaconda\\envs\\tf\\lib\\site-packages\\sklearn\\metrics\\_classification.py:1248: UndefinedMetricWarning: Precision and F-score are ill-defined and being set to 0.0 in labels with no predicted samples. Use `zero_division` parameter to control this behavior.\n",
      "  _warn_prf(average, modifier, msg_start, len(result))\n",
      "D:\\Anaconda\\envs\\tf\\lib\\site-packages\\sklearn\\metrics\\_classification.py:1248: UndefinedMetricWarning: Precision and F-score are ill-defined and being set to 0.0 in labels with no predicted samples. Use `zero_division` parameter to control this behavior.\n",
      "  _warn_prf(average, modifier, msg_start, len(result))\n"
     ]
    }
   ],
   "source": [
    "print(\"Confusion Matrix:\")\n",
    "print(confusion_matrix(test_Y1, y_pred))\n",
    "\n",
    "print(\"Classification Report\")\n",
    "print(classification_report(test_Y1, y_pred))"
   ]
  },
  {
   "cell_type": "markdown",
   "id": "1498f9b2",
   "metadata": {},
   "source": [
    "# APPLYING BAGGING ENSEMBLE MODEL"
   ]
  },
  {
   "cell_type": "code",
   "execution_count": 74,
   "id": "58630b45",
   "metadata": {},
   "outputs": [
    {
     "name": "stdout",
     "output_type": "stream",
     "text": [
      "Train data accuracy: 0.9505399389992581\n",
      "Test data accuracy: 0.7556874381800198\n"
     ]
    }
   ],
   "source": [
    "clf_bagging = BaggingClassifier(n_estimators=3)\n",
    "clf_bagging.fit(trainnew1, train_Y1)\n",
    "y_pred = clf_bagging.predict(testnew1)\n",
    "print(\"Train data accuracy:\",accuracy_score(y_true = train_Y1, y_pred=clf_bagging.predict(trainnew1)))\n",
    "print(\"Test data accuracy:\",accuracy_score(y_true = test_Y1, y_pred=y_pred))"
   ]
  },
  {
   "cell_type": "code",
   "execution_count": 75,
   "id": "0bb7754d",
   "metadata": {},
   "outputs": [
    {
     "name": "stdout",
     "output_type": "stream",
     "text": [
      "Confusion Matrix:\n",
      "[[ 464    0    6    0    5    0    0    1   40]\n",
      " [   2    0    1    0    2    0    0    0    6]\n",
      " [  29    1  193    6    6    1    3    2  140]\n",
      " [   2    0    8    6    0    0    0    0    5]\n",
      " [  14    2   32    1   17    0    0    1  117]\n",
      " [   0    0    3    0    2    9    2    0    0]\n",
      " [   3    0    9    0    6    1    2    0    4]\n",
      " [   1    0    3    0    3    0    0    3   31]\n",
      " [  47    9  126    2   52    0    1    3 1598]]\n",
      "Classification Report\n",
      "              precision    recall  f1-score   support\n",
      "\n",
      "           0       0.83      0.90      0.86       516\n",
      "           1       0.00      0.00      0.00        11\n",
      "           2       0.51      0.51      0.51       381\n",
      "           3       0.40      0.29      0.33        21\n",
      "           4       0.18      0.09      0.12       184\n",
      "           5       0.82      0.56      0.67        16\n",
      "           6       0.25      0.08      0.12        25\n",
      "           7       0.30      0.07      0.12        41\n",
      "           8       0.82      0.87      0.85      1838\n",
      "\n",
      "    accuracy                           0.76      3033\n",
      "   macro avg       0.46      0.37      0.40      3033\n",
      "weighted avg       0.73      0.76      0.74      3033\n",
      "\n"
     ]
    }
   ],
   "source": [
    "print(\"Confusion Matrix:\")\n",
    "print(confusion_matrix(test_Y1, y_pred))\n",
    "\n",
    "print(\"Classification Report\")\n",
    "print(classification_report(test_Y1, y_pred))"
   ]
  },
  {
   "cell_type": "markdown",
   "id": "a851228a",
   "metadata": {},
   "source": [
    "# K means"
   ]
  },
  {
   "cell_type": "code",
   "execution_count": 76,
   "id": "7c29124c",
   "metadata": {},
   "outputs": [],
   "source": [
    "wcss = []\n",
    "for i in range(1, 50):\n",
    "    kmeans = KMeans(n_clusters = i, init = 'k-means++', random_state = 42)\n",
    "    kmeans.fit(trainnew1)\n",
    "    wcss.append(kmeans.inertia_)"
   ]
  },
  {
   "cell_type": "code",
   "execution_count": 77,
   "id": "b0690cfd",
   "metadata": {},
   "outputs": [
    {
     "name": "stdout",
     "output_type": "stream",
     "text": [
      "Minimum error:- 1413607.5 at K = 48\n"
     ]
    },
    {
     "data": {
      "image/png": "[encoded data removed]",
      "text/plain": [
       "<Figure size 800x550 with 1 Axes>"
      ]
     },
     "metadata": {},
     "output_type": "display_data"
    }
   ],
   "source": [
    "print(\"Minimum error:-\",min(wcss),\"at K =\",wcss.index(min(wcss)))\n",
    "plt.plot(range(1, 50), wcss)\n",
    "plt.title('The Elbow Method')\n",
    "plt.xlabel('Number of clusters')\n",
    "plt.ylabel('WCSS')\n",
    "plt.show()"
   ]
  },
  {
   "cell_type": "code",
   "execution_count": 78,
   "id": "9f166a7f",
   "metadata": {},
   "outputs": [],
   "source": [
    "kmeans = KMeans(n_clusters = 9, init = 'k-means++', random_state = 42)\n",
    "y_train = kmeans.fit(trainnew1)\n",
    "y_pred = kmeans.fit_predict(testnew1)"
   ]
  },
  {
   "cell_type": "code",
   "execution_count": 79,
   "id": "98ff027e",
   "metadata": {},
   "outputs": [
    {
     "name": "stdout",
     "output_type": "stream",
     "text": [
      "Train data accuracy: 0.04830599291072459\n",
      "Test data accuracy: 0.043521266073194856\n"
     ]
    }
   ],
   "source": [
    "print(\"Train data accuracy:\",accuracy_score(y_true = train_Y1, y_pred=kmeans.predict(trainnew1)))\n",
    "print(\"Test data accuracy:\",accuracy_score(y_true = test_Y1, y_pred=y_pred))"
   ]
  },
  {
   "cell_type": "code",
   "execution_count": 80,
   "id": "6532ea15",
   "metadata": {},
   "outputs": [
    {
     "name": "stdout",
     "output_type": "stream",
     "text": [
      "[[7 8]\n",
      " [4 8]\n",
      " [7 8]\n",
      " ...\n",
      " [5 8]\n",
      " [2 8]\n",
      " [4 0]]\n"
     ]
    }
   ],
   "source": [
    "print(np.concatenate((y_pred.reshape(len(y_pred),1), test_Y1.reshape(len(test_Y1),1)),1))"
   ]
  },
  {
   "cell_type": "markdown",
   "id": "9ce3aeb8",
   "metadata": {},
   "source": [
    "# XGBoost"
   ]
  },
  {
   "cell_type": "code",
   "execution_count": 81,
   "id": "a75ddab1",
   "metadata": {},
   "outputs": [
    {
     "name": "stdout",
     "output_type": "stream",
     "text": [
      "Train data accuracy: 0.9997526996949962\n",
      "Test data accuracy: 0.8532805802835477\n"
     ]
    }
   ],
   "source": [
    "classifier = XGBClassifier()\n",
    "classifier.fit(trainnew1, train_Y1)\n",
    "y_pred = classifier.predict(testnew1)\n",
    "print(\"Train data accuracy:\",accuracy_score(y_true = train_Y1, y_pred=classifier.predict(trainnew1)))\n",
    "print(\"Test data accuracy:\",accuracy_score(y_true = test_Y1, y_pred=y_pred))"
   ]
  },
  {
   "cell_type": "code",
   "execution_count": 82,
   "id": "8db999f7",
   "metadata": {},
   "outputs": [
    {
     "name": "stdout",
     "output_type": "stream",
     "text": [
      "Confusion Matrix:\n",
      "[[ 470    0    0    0    6    0    0    0   40]\n",
      " [   0    0    3    0    8    0    0    0    0]\n",
      " [   1    0  248    4    9    0    0    0  119]\n",
      " [   0    0   12    8    0    0    0    0    1]\n",
      " [   7    1   16    0   34    0    0    0  126]\n",
      " [   0    0    1    0    0   10    5    0    0]\n",
      " [   0    0   10    0    8    0    6    0    1]\n",
      " [   2    0    0    0    1    0    0    1   37]\n",
      " [   4    0   16    1    5    0    0    1 1811]]\n",
      "Classification Report\n",
      "              precision    recall  f1-score   support\n",
      "\n",
      "           0       0.97      0.91      0.94       516\n",
      "           1       0.00      0.00      0.00        11\n",
      "           2       0.81      0.65      0.72       381\n",
      "           3       0.62      0.38      0.47        21\n",
      "           4       0.48      0.18      0.27       184\n",
      "           5       1.00      0.62      0.77        16\n",
      "           6       0.55      0.24      0.33        25\n",
      "           7       0.50      0.02      0.05        41\n",
      "           8       0.85      0.99      0.91      1838\n",
      "\n",
      "    accuracy                           0.85      3033\n",
      "   macro avg       0.64      0.44      0.50      3033\n",
      "weighted avg       0.83      0.85      0.83      3033\n",
      "\n"
     ]
    }
   ],
   "source": [
    "print(\"Confusion Matrix:\")\n",
    "print(confusion_matrix(test_Y1, y_pred))\n",
    "\n",
    "print(\"Classification Report\")\n",
    "print(classification_report(test_Y1, y_pred))"
   ]
  },
  {
   "cell_type": "code",
   "execution_count": 83,
   "id": "17a7d26e",
   "metadata": {},
   "outputs": [
    {
     "name": "stdout",
     "output_type": "stream",
     "text": [
      "Accuracy: 84.39 %\n",
      "Standard Deviation: 0.48 %\n"
     ]
    }
   ],
   "source": [
    "accuracies = cross_val_score(estimator = classifier, X = trainnew1, y = train_Y1, cv = 10)\n",
    "print(\"Accuracy: {:.2f} %\".format(accuracies.mean()*100))\n",
    "print(\"Standard Deviation: {:.2f} %\".format(accuracies.std()*100))"
   ]
  },
  {
   "cell_type": "markdown",
   "id": "9336c532",
   "metadata": {},
   "source": [
    "# KNN"
   ]
  },
  {
   "cell_type": "code",
   "execution_count": 84,
   "id": "3db72ee2",
   "metadata": {},
   "outputs": [],
   "source": [
    "classifier = KNeighborsClassifier(n_neighbors = 5, metric = 'minkowski', p = 2)\n",
    "y_kmeans = classifier.fit(trainnew1, train_Y1)"
   ]
  },
  {
   "cell_type": "code",
   "execution_count": 85,
   "id": "9666a497",
   "metadata": {},
   "outputs": [
    {
     "name": "stdout",
     "output_type": "stream",
     "text": [
      "[[8 8]\n",
      " [4 8]\n",
      " [8 8]\n",
      " ...\n",
      " [4 8]\n",
      " [8 8]\n",
      " [4 0]]\n"
     ]
    }
   ],
   "source": [
    "y_pred = classifier.predict(testnew1)\n",
    "print(np.concatenate((y_pred.reshape(len(y_pred),1), test_Y1.reshape(len(test_Y1),1)),1))"
   ]
  },
  {
   "cell_type": "code",
   "execution_count": 86,
   "id": "569d1644",
   "metadata": {},
   "outputs": [
    {
     "name": "stdout",
     "output_type": "stream",
     "text": [
      "confussion matrix: \n",
      " [[ 375    0    1    0   62    0    0    0   78]\n",
      " [   0    3    1    0    1    0    0    0    6]\n",
      " [   5    0   75    4   15    1    0    0  281]\n",
      " [   0    0    7   10    0    0    0    0    4]\n",
      " [   1    1    4    0   19    0    0    0  159]\n",
      " [   0    0    0    0    0   16    0    0    0]\n",
      " [   5    0    5    0    0    4    0    0   11]\n",
      " [   1    0    1    0    0    0    0    0   39]\n",
      " [   6    0   10    1  344    0    0    0 1477]]\n",
      "Accuracy score :  0.6511704582921201\n",
      "Classification report : \n",
      "               precision    recall  f1-score   support\n",
      "\n",
      "           0       0.95      0.73      0.83       516\n",
      "           1       0.75      0.27      0.40        11\n",
      "           2       0.72      0.20      0.31       381\n",
      "           3       0.67      0.48      0.56        21\n",
      "           4       0.04      0.10      0.06       184\n",
      "           5       0.76      1.00      0.86        16\n",
      "           6       0.00      0.00      0.00        25\n",
      "           7       0.00      0.00      0.00        41\n",
      "           8       0.72      0.80      0.76      1838\n",
      "\n",
      "    accuracy                           0.65      3033\n",
      "   macro avg       0.51      0.40      0.42      3033\n",
      "weighted avg       0.70      0.65      0.65      3033\n",
      "\n"
     ]
    },
    {
     "name": "stderr",
     "output_type": "stream",
     "text": [
      "D:\\Anaconda\\envs\\tf\\lib\\site-packages\\sklearn\\metrics\\_classification.py:1248: UndefinedMetricWarning: Precision and F-score are ill-defined and being set to 0.0 in labels with no predicted samples. Use `zero_division` parameter to control this behavior.\n",
      "  _warn_prf(average, modifier, msg_start, len(result))\n",
      "D:\\Anaconda\\envs\\tf\\lib\\site-packages\\sklearn\\metrics\\_classification.py:1248: UndefinedMetricWarning: Precision and F-score are ill-defined and being set to 0.0 in labels with no predicted samples. Use `zero_division` parameter to control this behavior.\n",
      "  _warn_prf(average, modifier, msg_start, len(result))\n",
      "D:\\Anaconda\\envs\\tf\\lib\\site-packages\\sklearn\\metrics\\_classification.py:1248: UndefinedMetricWarning: Precision and F-score are ill-defined and being set to 0.0 in labels with no predicted samples. Use `zero_division` parameter to control this behavior.\n",
      "  _warn_prf(average, modifier, msg_start, len(result))\n"
     ]
    },
    {
     "data": {
      "image/png": "[encoded data removed]",
      "text/plain": [
       "<Figure size 800x550 with 1 Axes>"
      ]
     },
     "metadata": {},
     "output_type": "display_data"
    }
   ],
   "source": [
    "# Making the Confusion Matrix\n",
    "cm = confusion_matrix(test_Y1, y_pred)\n",
    "sns.heatmap(cm,cmap='YlGnBu', annot = True,cbar = False)\n",
    "print('confussion matrix: \\n',cm)\n",
    "print('Accuracy score : ',accuracy_score(test_Y1, y_pred))\n",
    "print('Classification report : \\n',classification_report(test_Y1,y_pred))"
   ]
  },
  {
   "cell_type": "code",
   "execution_count": null,
   "id": "d7c30cba",
   "metadata": {},
   "outputs": [],
   "source": []
  }
 ],
 "metadata": {
  "kernelspec": {
   "display_name": "Python 3 (ipykernel)",
   "language": "python",
   "name": "python3"
  },
  "language_info": {
   "codemirror_mode": {
    "name": "ipython",
    "version": 3
   },
   "file_extension": ".py",
   "mimetype": "text/x-python",
   "name": "python",
   "nbconvert_exporter": "python",
   "pygments_lexer": "ipython3",
   "version": "3.9.13"
  }
 },
 "nbformat": 4,
 "nbformat_minor": 5
}
